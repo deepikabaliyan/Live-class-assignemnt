{
 "cells": [
  {
   "cell_type": "markdown",
   "id": "307d21fb",
   "metadata": {},
   "source": [
    "loops in python"
   ]
  },
  {
   "cell_type": "markdown",
   "id": "67f28592",
   "metadata": {},
   "source": [
    "while loop"
   ]
  },
  {
   "cell_type": "code",
   "execution_count": 37,
   "id": "83fa5435",
   "metadata": {},
   "outputs": [
    {
     "name": "stdout",
     "output_type": "stream",
     "text": [
      "0\n",
      "1\n",
      "2\n",
      "3\n",
      "4\n"
     ]
    }
   ],
   "source": [
    "#initialization\n",
    "i=0\n",
    "while(i<5):\n",
    "    print(i)\n",
    "    i=i+1 \n",
    "        \n",
    "        "
   ]
  },
  {
   "cell_type": "code",
   "execution_count": 38,
   "id": "84e4a393",
   "metadata": {},
   "outputs": [
    {
     "name": "stdout",
     "output_type": "stream",
     "text": [
      "0\n",
      "1\n",
      "2\n",
      "3\n",
      "4\n",
      "5\n",
      "6\n"
     ]
    }
   ],
   "source": [
    "i=0\n",
    "while(i<7):\n",
    "    print(i)\n",
    "    i=i+1\n",
    "    "
   ]
  },
  {
   "cell_type": "code",
   "execution_count": 39,
   "id": "abba0de3",
   "metadata": {},
   "outputs": [
    {
     "name": "stdout",
     "output_type": "stream",
     "text": [
      "0\n",
      "1\n",
      "2\n",
      "3\n",
      "4\n",
      "5\n",
      "6\n",
      "7\n",
      "8\n",
      "9\n"
     ]
    }
   ],
   "source": [
    "i=0\n",
    "while(i<10):\n",
    "    print(i)\n",
    "    i=i+1\n",
    "    "
   ]
  },
  {
   "cell_type": "code",
   "execution_count": 40,
   "id": "bb5a43d1",
   "metadata": {},
   "outputs": [
    {
     "name": "stdout",
     "output_type": "stream",
     "text": [
      "the value of i= 0\n",
      "the value of i= 1\n",
      "the value of i= 2\n",
      "the value of i= 3\n",
      "the value of i= 4\n",
      "the value of i= 5\n"
     ]
    }
   ],
   "source": [
    "i=0\n",
    "while(i<6):\n",
    "    print('the value of i=', i)\n",
    "    i=i+1\n",
    "    "
   ]
  },
  {
   "cell_type": "code",
   "execution_count": 41,
   "id": "0ead3d85",
   "metadata": {},
   "outputs": [
    {
     "name": "stdout",
     "output_type": "stream",
     "text": [
      "0\n",
      "1\n",
      "2\n",
      "3\n",
      "4\n"
     ]
    }
   ],
   "source": [
    "i=0\n",
    "while(i<5):\n",
    "    print(i)\n",
    "    i=i+1\n",
    "    "
   ]
  },
  {
   "cell_type": "code",
   "execution_count": 42,
   "id": "d10b059e",
   "metadata": {},
   "outputs": [
    {
     "name": "stdout",
     "output_type": "stream",
     "text": [
      "0\n",
      "1\n",
      "2\n",
      "3\n",
      "4\n"
     ]
    }
   ],
   "source": [
    "j=0\n",
    "while(j<5):\n",
    "    print(j)\n",
    "    j=j+1"
   ]
  },
  {
   "cell_type": "code",
   "execution_count": 30,
   "id": "5f243123",
   "metadata": {},
   "outputs": [
    {
     "name": "stdout",
     "output_type": "stream",
     "text": [
      "the value of k= 0\n",
      "the value of k= 1\n",
      "the value of k= 2\n",
      "the value of k= 3\n",
      "the value of k= 4\n",
      "the value of k= 5\n",
      "the value of k= 6\n"
     ]
    }
   ],
   "source": [
    "k=0\n",
    "while(k<7):\n",
    "    print(\"the value of k=\",k)\n",
    "    k=k+1"
   ]
  },
  {
   "cell_type": "code",
   "execution_count": 31,
   "id": "0fc0cb1d",
   "metadata": {},
   "outputs": [
    {
     "name": "stdout",
     "output_type": "stream",
     "text": [
      "0\n",
      "2\n",
      "4\n",
      "6\n",
      "8\n"
     ]
    }
   ],
   "source": [
    "k=0\n",
    "while(k<10):\n",
    "    print(k)\n",
    "    k=k+2"
   ]
  },
  {
   "cell_type": "code",
   "execution_count": 32,
   "id": "77a6e16c",
   "metadata": {},
   "outputs": [
    {
     "name": "stdout",
     "output_type": "stream",
     "text": [
      "0\n",
      "5\n",
      "10\n",
      "15\n",
      "20\n"
     ]
    }
   ],
   "source": [
    "j=0\n",
    "while(j<25):\n",
    "    print(j)\n",
    "    j=j+5"
   ]
  },
  {
   "cell_type": "code",
   "execution_count": 33,
   "id": "75cac223",
   "metadata": {},
   "outputs": [
    {
     "name": "stdout",
     "output_type": "stream",
     "text": [
      "0\n",
      "10\n",
      "20\n",
      "30\n",
      "40\n"
     ]
    }
   ],
   "source": [
    "m=0\n",
    "while(m<50):\n",
    "    print(m)\n",
    "    m=m+10\n"
   ]
  },
  {
   "cell_type": "code",
   "execution_count": 43,
   "id": "3ad92844",
   "metadata": {},
   "outputs": [
    {
     "name": "stdout",
     "output_type": "stream",
     "text": [
      "0\n",
      "2\n",
      "4\n",
      "6\n",
      "8\n",
      "10\n",
      "12\n",
      "14\n",
      "16\n",
      "18\n"
     ]
    }
   ],
   "source": [
    "j=0\n",
    "while(j<10):\n",
    "    print(2*j)\n",
    "    j=j+1"
   ]
  },
  {
   "cell_type": "code",
   "execution_count": 44,
   "id": "fc5f670b",
   "metadata": {},
   "outputs": [
    {
     "name": "stdout",
     "output_type": "stream",
     "text": [
      "enter any value of table2\n",
      "2\n",
      "4\n",
      "6\n",
      "8\n",
      "10\n",
      "12\n",
      "14\n",
      "16\n",
      "18\n",
      "20\n"
     ]
    }
   ],
   "source": [
    "p=1\n",
    "s=int(input('enter any value of table'))\n",
    "while(p<=10):\n",
    "    print(s*p)\n",
    "    p=p+1"
   ]
  },
  {
   "cell_type": "code",
   "execution_count": 45,
   "id": "9831297b",
   "metadata": {},
   "outputs": [
    {
     "name": "stdout",
     "output_type": "stream",
     "text": [
      "enter any value of table9\n",
      "9 * 1 = 9\n",
      "9 * 2 = 18\n",
      "9 * 3 = 27\n",
      "9 * 4 = 36\n",
      "9 * 5 = 45\n",
      "9 * 6 = 54\n",
      "9 * 7 = 63\n",
      "9 * 8 = 72\n",
      "9 * 9 = 81\n",
      "9 * 10 = 90\n"
     ]
    }
   ],
   "source": [
    "p=1\n",
    "s=int(input('enter any value of table'))\n",
    "while(p<=10):\n",
    "    print(s,'*',p,'=',s*p)\n",
    "    p=p+1"
   ]
  },
  {
   "cell_type": "code",
   "execution_count": 47,
   "id": "2e6143cf",
   "metadata": {},
   "outputs": [
    {
     "name": "stdout",
     "output_type": "stream",
     "text": [
      "enter any value of table5\n",
      "5 * 1 = 5\n",
      "5 * 2 = 10\n",
      "5 * 3 = 15\n",
      "5 * 4 = 20\n",
      "5 * 5 = 25\n",
      "5 * 6 = 30\n",
      "5 * 7 = 35\n",
      "5 * 8 = 40\n",
      "5 * 9 = 45\n",
      "5 * 10 = 50\n"
     ]
    }
   ],
   "source": [
    "p=1\n",
    "s=int(input('enter any value of table'))\n",
    "while(p<=10):\n",
    "    print(s,'*',p,'=',s*p)\n",
    "    p=p+1"
   ]
  },
  {
   "cell_type": "code",
   "execution_count": 48,
   "id": "aa266abf",
   "metadata": {},
   "outputs": [
    {
     "name": "stdout",
     "output_type": "stream",
     "text": [
      "enter any value of table3\n",
      "3 * 1 = 3\n",
      "3 * 2 = 6\n",
      "3 * 3 = 9\n",
      "3 * 4 = 12\n",
      "3 * 5 = 15\n",
      "3 * 6 = 18\n",
      "3 * 7 = 21\n",
      "3 * 8 = 24\n",
      "3 * 9 = 27\n",
      "3 * 10 = 30\n"
     ]
    }
   ],
   "source": [
    "p=1\n",
    "s=int(input('enter any value of table'))\n",
    "while(p<=10):\n",
    "    print(s,'*',p,'=',s*p)\n",
    "    p=p+1"
   ]
  },
  {
   "cell_type": "code",
   "execution_count": 49,
   "id": "0287dbf9",
   "metadata": {},
   "outputs": [
    {
     "name": "stdout",
     "output_type": "stream",
     "text": [
      "enter any value of table2\n",
      "2 * 1 = 2\n",
      "2 * 6 = 12\n"
     ]
    }
   ],
   "source": [
    "p=1\n",
    "s=int(input('enter any value of table'))\n",
    "while(p<=10):\n",
    "    print(s,'*',p,'=',s*p)\n",
    "    p=p+5"
   ]
  },
  {
   "cell_type": "code",
   "execution_count": 52,
   "id": "3fc3bbe3",
   "metadata": {},
   "outputs": [
    {
     "name": "stdout",
     "output_type": "stream",
     "text": [
      "enter any value of table5\n",
      "5 * 1 = 5\n",
      "5 * 6 = 30\n"
     ]
    }
   ],
   "source": [
    "p=1\n",
    "s=int(input('enter any value of table'))\n",
    "while(p<=10):\n",
    "    print(s,'*',p,'=',s*p)\n",
    "    p=p+5"
   ]
  },
  {
   "cell_type": "code",
   "execution_count": 53,
   "id": "12b404be",
   "metadata": {},
   "outputs": [
    {
     "name": "stdout",
     "output_type": "stream",
     "text": [
      "1\n",
      "3\n",
      "5\n",
      "7\n",
      "9\n"
     ]
    }
   ],
   "source": [
    "p=1\n",
    "\n",
    "while(p<=10):\n",
    "    print(p)\n",
    "    p=p+2"
   ]
  },
  {
   "cell_type": "code",
   "execution_count": 54,
   "id": "e44e8e31",
   "metadata": {},
   "outputs": [
    {
     "name": "stdout",
     "output_type": "stream",
     "text": [
      "2\n",
      "6\n",
      "10\n",
      "14\n",
      "18\n"
     ]
    }
   ],
   "source": [
    "p=1\n",
    "\n",
    "while(p<=10):\n",
    "    print(2*p)\n",
    "    p=p+2"
   ]
  },
  {
   "cell_type": "code",
   "execution_count": 55,
   "id": "3df549b2",
   "metadata": {},
   "outputs": [
    {
     "name": "stdout",
     "output_type": "stream",
     "text": [
      "13579"
     ]
    }
   ],
   "source": [
    "p=1\n",
    "\n",
    "while(p<=10):\n",
    "    print(p,end=\"\")\n",
    "    p=p+2"
   ]
  },
  {
   "cell_type": "code",
   "execution_count": 56,
   "id": "ff943d40",
   "metadata": {},
   "outputs": [
    {
     "name": "stdout",
     "output_type": "stream",
     "text": [
      "1 2 3 4 5 6 7 8 9 10 11 12 13 14 15 16 17 18 19 20 21 22 23 24 25 26 27 28 29 30 "
     ]
    }
   ],
   "source": [
    "m=1\n",
    "\n",
    "while(m<=30):\n",
    "    print(m,end=\" \")\n",
    "    m=m+1"
   ]
  },
  {
   "cell_type": "code",
   "execution_count": 57,
   "id": "184413f3",
   "metadata": {},
   "outputs": [
    {
     "name": "stdout",
     "output_type": "stream",
     "text": [
      "insisde loop\n",
      "the value of k= 1\n",
      "insisde loop\n",
      "the value of k= 2\n",
      "insisde loop\n",
      "the value of k= 3\n",
      "insisde loop\n",
      "the value of k= 4\n",
      "insisde loop\n",
      "the value of k= 5\n"
     ]
    }
   ],
   "source": [
    "k=1\n",
    "\n",
    "while(k<=5):\n",
    "    print('insisde loop')\n",
    "    print('the value of k=',k)\n",
    "    k=k+1"
   ]
  },
  {
   "cell_type": "code",
   "execution_count": 58,
   "id": "2f29217f",
   "metadata": {},
   "outputs": [
    {
     "name": "stdout",
     "output_type": "stream",
     "text": [
      "insisde loop\n",
      "the value of k= 1\n",
      "insisde loop\n",
      "the value of k= 2\n",
      "insisde loop\n",
      "the value of k= 3\n",
      "insisde loop\n",
      "the value of k= 4\n",
      "insisde loop\n",
      "the value of k= 5\n",
      "insisde loop\n",
      "the value of k= 6\n",
      "insisde loop\n",
      "the value of k= 7\n",
      "insisde loop\n",
      "the value of k= 8\n",
      "insisde loop\n",
      "the value of k= 9\n",
      "insisde loop\n",
      "the value of k= 10\n",
      "insisde loop\n",
      "the value of k= 11\n",
      "insisde loop\n",
      "the value of k= 12\n",
      "insisde loop\n",
      "the value of k= 13\n",
      "insisde loop\n",
      "the value of k= 14\n",
      "insisde loop\n",
      "the value of k= 15\n",
      "insisde loop\n",
      "the value of k= 16\n",
      "insisde loop\n",
      "the value of k= 17\n",
      "insisde loop\n",
      "the value of k= 18\n",
      "insisde loop\n",
      "the value of k= 19\n",
      "insisde loop\n",
      "the value of k= 20\n"
     ]
    }
   ],
   "source": [
    "k=1\n",
    "\n",
    "while(k<=20):\n",
    "    print('insisde loop')\n",
    "    print('the value of k=',k)\n",
    "    k=k+1"
   ]
  },
  {
   "cell_type": "code",
   "execution_count": null,
   "id": "9e50fb15",
   "metadata": {},
   "outputs": [],
   "source": []
  }
 ],
 "metadata": {
  "kernelspec": {
   "display_name": "Python 3 (ipykernel)",
   "language": "python",
   "name": "python3"
  },
  "language_info": {
   "codemirror_mode": {
    "name": "ipython",
    "version": 3
   },
   "file_extension": ".py",
   "mimetype": "text/x-python",
   "name": "python",
   "nbconvert_exporter": "python",
   "pygments_lexer": "ipython3",
   "version": "3.9.12"
  }
 },
 "nbformat": 4,
 "nbformat_minor": 5
}
