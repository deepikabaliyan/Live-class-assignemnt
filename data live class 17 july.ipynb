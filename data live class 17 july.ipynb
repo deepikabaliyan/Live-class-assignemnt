{
 "cells": [
  {
   "cell_type": "markdown",
   "id": "3f5665c0",
   "metadata": {},
   "source": [
    "for loop"
   ]
  },
  {
   "cell_type": "code",
   "execution_count": 1,
   "id": "8e8a352b",
   "metadata": {},
   "outputs": [
    {
     "name": "stdout",
     "output_type": "stream",
     "text": [
      "10\n",
      "20\n",
      "30\n",
      "40\n",
      "50\n"
     ]
    }
   ],
   "source": [
    "for index in[10,20,30,40,50]:\n",
    "    print(index)"
   ]
  },
  {
   "cell_type": "code",
   "execution_count": 2,
   "id": "a0eb61b3",
   "metadata": {},
   "outputs": [
    {
     "name": "stdout",
     "output_type": "stream",
     "text": [
      "10\n",
      "11\n",
      "12\n",
      "13\n",
      "14\n",
      "15\n"
     ]
    }
   ],
   "source": [
    "for index in[10,11,12,13,14,15]:\n",
    "    print(index)"
   ]
  },
  {
   "cell_type": "code",
   "execution_count": 3,
   "id": "4c925f18",
   "metadata": {},
   "outputs": [
    {
     "name": "stdout",
     "output_type": "stream",
     "text": [
      "26\n",
      "39\n",
      "56\n"
     ]
    }
   ],
   "source": [
    "for index in[26,39,56]:\n",
    "    print(index)"
   ]
  },
  {
   "cell_type": "code",
   "execution_count": 4,
   "id": "a4e93251",
   "metadata": {},
   "outputs": [
    {
     "name": "stdout",
     "output_type": "stream",
     "text": [
      "10.3\n",
      "11.5\n",
      "12.2\n",
      "13.7\n",
      "14.9\n",
      "15.0\n"
     ]
    }
   ],
   "source": [
    "for index in[10.3,11.5,12.2,13.7,14.9,15.0]:\n",
    "    print(index)"
   ]
  },
  {
   "cell_type": "code",
   "execution_count": 5,
   "id": "6fe68e28",
   "metadata": {},
   "outputs": [
    {
     "name": "stdout",
     "output_type": "stream",
     "text": [
      "a\n",
      "b\n",
      "c\n",
      "d\n"
     ]
    }
   ],
   "source": [
    "for index in['a','b','c','d']:\n",
    "    print(index)"
   ]
  },
  {
   "cell_type": "code",
   "execution_count": 6,
   "id": "28711dd3",
   "metadata": {},
   "outputs": [
    {
     "name": "stdout",
     "output_type": "stream",
     "text": [
      "a\n",
      "b\n",
      "c\n",
      "d\n"
     ]
    }
   ],
   "source": [
    "for i in['a','b','c','d']:\n",
    "    print(i)"
   ]
  },
  {
   "cell_type": "code",
   "execution_count": 7,
   "id": "12e81899",
   "metadata": {},
   "outputs": [
    {
     "name": "stdout",
     "output_type": "stream",
     "text": [
      "e\n",
      "f\n",
      "g\n",
      "h\n"
     ]
    }
   ],
   "source": [
    "for p in['e','f','g','h']:\n",
    "    print(p)"
   ]
  },
  {
   "cell_type": "code",
   "execution_count": 8,
   "id": "613e1c15",
   "metadata": {},
   "outputs": [
    {
     "name": "stdout",
     "output_type": "stream",
     "text": [
      "apple\n",
      "banana\n",
      "kiwi\n",
      "grapes\n"
     ]
    }
   ],
   "source": [
    "for x in['apple','banana','kiwi','grapes']:\n",
    "    print(x)"
   ]
  },
  {
   "cell_type": "code",
   "execution_count": 16,
   "id": "11f3d67e",
   "metadata": {},
   "outputs": [
    {
     "name": "stdout",
     "output_type": "stream",
     "text": [
      "a\n",
      "b\n",
      "78\n",
      "90\n",
      "5\n",
      "apple\n",
      "kiwi\n"
     ]
    }
   ],
   "source": [
    "for p in ['a','b',78,90,5,'apple','kiwi']:\n",
    "    print(p)"
   ]
  },
  {
   "cell_type": "code",
   "execution_count": 17,
   "id": "d388d138",
   "metadata": {},
   "outputs": [],
   "source": [
    "list1=[15,16,17,18]"
   ]
  },
  {
   "cell_type": "code",
   "execution_count": 18,
   "id": "49ac430c",
   "metadata": {},
   "outputs": [
    {
     "name": "stdout",
     "output_type": "stream",
     "text": [
      "15\n",
      "16\n",
      "17\n",
      "18\n"
     ]
    }
   ],
   "source": [
    "for i in list1:\n",
    "    print(i)"
   ]
  },
  {
   "cell_type": "code",
   "execution_count": 20,
   "id": "80159d87",
   "metadata": {},
   "outputs": [
    {
     "name": "stdout",
     "output_type": "stream",
     "text": [
      "apple\n",
      "lenov\n",
      "hp\n"
     ]
    }
   ],
   "source": [
    "list2=['apple','lenov','hp']\n",
    "for k in list2:\n",
    "    print(k)"
   ]
  },
  {
   "cell_type": "code",
   "execution_count": 21,
   "id": "d2f46c48",
   "metadata": {},
   "outputs": [
    {
     "name": "stdout",
     "output_type": "stream",
     "text": [
      "apple lenov hp "
     ]
    }
   ],
   "source": [
    "list2=['apple','lenov','hp']\n",
    "for k in list2:\n",
    "    print(k,end=\" \")"
   ]
  },
  {
   "cell_type": "code",
   "execution_count": 23,
   "id": "04338885",
   "metadata": {},
   "outputs": [
    {
     "name": "stdout",
     "output_type": "stream",
     "text": [
      "0 3\n"
     ]
    }
   ],
   "source": [
    "#range\n",
    "print(0,3)"
   ]
  },
  {
   "cell_type": "code",
   "execution_count": 1,
   "id": "e6ea3191",
   "metadata": {},
   "outputs": [
    {
     "data": {
      "text/plain": [
       "range(0, 6)"
      ]
     },
     "execution_count": 1,
     "metadata": {},
     "output_type": "execute_result"
    }
   ],
   "source": [
    "range(6)"
   ]
  },
  {
   "cell_type": "code",
   "execution_count": 2,
   "id": "36ed7177",
   "metadata": {},
   "outputs": [
    {
     "data": {
      "text/plain": [
       "range(0, 10)"
      ]
     },
     "execution_count": 2,
     "metadata": {},
     "output_type": "execute_result"
    }
   ],
   "source": [
    "range(0,10)"
   ]
  },
  {
   "cell_type": "code",
   "execution_count": 4,
   "id": "c1f2cdbf",
   "metadata": {},
   "outputs": [
    {
     "data": {
      "text/plain": [
       "[0, 1, 2, 3]"
      ]
     },
     "execution_count": 4,
     "metadata": {},
     "output_type": "execute_result"
    }
   ],
   "source": [
    "list(range(4))"
   ]
  },
  {
   "cell_type": "code",
   "execution_count": 5,
   "id": "91755608",
   "metadata": {},
   "outputs": [
    {
     "data": {
      "text/plain": [
       "[0, 1, 2, 3, 4, 5, 6, 7, 8, 9]"
      ]
     },
     "execution_count": 5,
     "metadata": {},
     "output_type": "execute_result"
    }
   ],
   "source": [
    "list(range(0,10))"
   ]
  },
  {
   "cell_type": "code",
   "execution_count": 6,
   "id": "639afc22",
   "metadata": {},
   "outputs": [
    {
     "name": "stdout",
     "output_type": "stream",
     "text": [
      "0 1 2 3 4 "
     ]
    }
   ],
   "source": [
    "for i in range(5):\n",
    "    print(i,end=\" \")"
   ]
  },
  {
   "cell_type": "code",
   "execution_count": 7,
   "id": "2924a658",
   "metadata": {},
   "outputs": [
    {
     "name": "stdout",
     "output_type": "stream",
     "text": [
      "0 1 2 3 4 5 6 7 8 9 "
     ]
    }
   ],
   "source": [
    "for i in range(10):\n",
    "    print(i,end=\" \")"
   ]
  },
  {
   "cell_type": "code",
   "execution_count": 17,
   "id": "bf87a937",
   "metadata": {},
   "outputs": [
    {
     "name": "stdout",
     "output_type": "stream",
     "text": [
      "0 1 2 3 4 "
     ]
    }
   ],
   "source": [
    "for i in range(5):\n",
    "        print(i,end=\" \")"
   ]
  },
  {
   "cell_type": "code",
   "execution_count": 19,
   "id": "a646d697",
   "metadata": {},
   "outputs": [
    {
     "name": "stdout",
     "output_type": "stream",
     "text": [
      "5\n",
      "6\n",
      "7\n",
      "8\n",
      "9\n"
     ]
    }
   ],
   "source": [
    "for i in range(5,10):\n",
    "        print(i)"
   ]
  },
  {
   "cell_type": "code",
   "execution_count": 20,
   "id": "75b83445",
   "metadata": {},
   "outputs": [
    {
     "name": "stdout",
     "output_type": "stream",
     "text": [
      "2 3 4 5 6 7 8 9 "
     ]
    }
   ],
   "source": [
    "for i in range(2,10):\n",
    "    print(i,end=\" \")"
   ]
  },
  {
   "cell_type": "code",
   "execution_count": 22,
   "id": "f2da7445",
   "metadata": {},
   "outputs": [
    {
     "data": {
      "text/plain": [
       "[2, 4, 6, 8]"
      ]
     },
     "execution_count": 22,
     "metadata": {},
     "output_type": "execute_result"
    }
   ],
   "source": [
    "#range(start,end,skip/jump)\n",
    "list(range(2,10,2))"
   ]
  },
  {
   "cell_type": "code",
   "execution_count": 23,
   "id": "48cbe56f",
   "metadata": {},
   "outputs": [
    {
     "data": {
      "text/plain": [
       "[100, 300]"
      ]
     },
     "execution_count": 23,
     "metadata": {},
     "output_type": "execute_result"
    }
   ],
   "source": [
    "list(range(100,400,200))"
   ]
  },
  {
   "cell_type": "code",
   "execution_count": 24,
   "id": "2a7d2fde",
   "metadata": {},
   "outputs": [
    {
     "data": {
      "text/plain": [
       "[10, 20, 30, 40, 50, 60, 70, 80, 90]"
      ]
     },
     "execution_count": 24,
     "metadata": {},
     "output_type": "execute_result"
    }
   ],
   "source": [
    "list(range(10,100,10))"
   ]
  },
  {
   "cell_type": "code",
   "execution_count": 25,
   "id": "4d423486",
   "metadata": {},
   "outputs": [
    {
     "data": {
      "text/plain": [
       "[2, 3, 4, 5, 6, 7, 8, 9, 10, 11, 12, 13, 14, 15, 16, 17, 18, 19]"
      ]
     },
     "execution_count": 25,
     "metadata": {},
     "output_type": "execute_result"
    }
   ],
   "source": [
    "list(range(2,20))"
   ]
  },
  {
   "cell_type": "code",
   "execution_count": 29,
   "id": "90154792",
   "metadata": {},
   "outputs": [
    {
     "data": {
      "text/plain": [
       "[0, 5, 10, 15]"
      ]
     },
     "execution_count": 29,
     "metadata": {},
     "output_type": "execute_result"
    }
   ],
   "source": [
    "list(range(0,20,5))"
   ]
  },
  {
   "cell_type": "code",
   "execution_count": 31,
   "id": "5e7e1084",
   "metadata": {},
   "outputs": [
    {
     "name": "stdout",
     "output_type": "stream",
     "text": [
      "2\n",
      "4\n",
      "6\n",
      "8\n"
     ]
    }
   ],
   "source": [
    "for p in range(2,10,2):\n",
    "    print(p)"
   ]
  },
  {
   "cell_type": "code",
   "execution_count": 33,
   "id": "7efd98a9",
   "metadata": {},
   "outputs": [
    {
     "data": {
      "text/plain": [
       "[1, 2, 3, 4, 5, 6, 7, 8, 9, 10]"
      ]
     },
     "execution_count": 33,
     "metadata": {},
     "output_type": "execute_result"
    }
   ],
   "source": [
    "list (range(1,11))\n",
    "    "
   ]
  },
  {
   "cell_type": "code",
   "execution_count": 36,
   "id": "0bdbb435",
   "metadata": {},
   "outputs": [
    {
     "name": "stdout",
     "output_type": "stream",
     "text": [
      "2\n",
      "4\n",
      "6\n",
      "8\n",
      "10\n",
      "12\n",
      "14\n",
      "16\n",
      "18\n",
      "20\n"
     ]
    }
   ],
   "source": [
    "for i in range(1,11):\n",
    "    print(2*i)"
   ]
  },
  {
   "cell_type": "code",
   "execution_count": 39,
   "id": "7e448d98",
   "metadata": {},
   "outputs": [
    {
     "name": "stdout",
     "output_type": "stream",
     "text": [
      "enter any number to generate the table2\n",
      "2\n",
      "4\n",
      "6\n",
      "8\n",
      "10\n",
      "12\n",
      "14\n",
      "16\n",
      "18\n",
      "20\n"
     ]
    }
   ],
   "source": [
    "t=int(input('enter any number to generate the table'))\n",
    "for i in range(1,11):\n",
    "        print(t*i)\n"
   ]
  },
  {
   "cell_type": "code",
   "execution_count": 40,
   "id": "c2b34bee",
   "metadata": {},
   "outputs": [
    {
     "name": "stdout",
     "output_type": "stream",
     "text": [
      "enter any number to generate the table5\n",
      "5\n",
      "10\n",
      "15\n",
      "20\n",
      "25\n",
      "30\n",
      "35\n",
      "40\n",
      "45\n",
      "50\n",
      "55\n",
      "60\n",
      "65\n",
      "70\n",
      "75\n",
      "80\n",
      "85\n",
      "90\n",
      "95\n"
     ]
    }
   ],
   "source": [
    "t=int(input('enter any number to generate the table'))\n",
    "for i in range(1,20):\n",
    "        print(t*i)\n"
   ]
  },
  {
   "cell_type": "code",
   "execution_count": 43,
   "id": "e703c850",
   "metadata": {},
   "outputs": [
    {
     "name": "stdout",
     "output_type": "stream",
     "text": [
      "enter any number to generate the table5\n",
      "5 * 1 = 5\n",
      "5 * 2 = 10\n",
      "5 * 3 = 15\n",
      "5 * 4 = 20\n",
      "5 * 5 = 25\n",
      "5 * 6 = 30\n",
      "5 * 7 = 35\n",
      "5 * 8 = 40\n",
      "5 * 9 = 45\n",
      "5 * 10 = 50\n",
      "5 * 11 = 55\n",
      "5 * 12 = 60\n",
      "5 * 13 = 65\n",
      "5 * 14 = 70\n",
      "5 * 15 = 75\n",
      "5 * 16 = 80\n",
      "5 * 17 = 85\n",
      "5 * 18 = 90\n",
      "5 * 19 = 95\n"
     ]
    }
   ],
   "source": [
    "t=int(input('enter any number to generate the table'))\n",
    "for i in range(1,20):\n",
    "        print(t,'*',i,\"=\",t*i)\n"
   ]
  },
  {
   "cell_type": "code",
   "execution_count": 45,
   "id": "dc01a73f",
   "metadata": {},
   "outputs": [
    {
     "name": "stdout",
     "output_type": "stream",
     "text": [
      "[0]\n",
      "[0, 1]\n",
      "[0, 1, 2]\n",
      "[0, 1, 2, 3]\n",
      "[0, 1, 2, 3, 4]\n"
     ]
    }
   ],
   "source": [
    "k=[]\n",
    "for i in range(5):\n",
    "    k.append(i)\n",
    "    print(k)"
   ]
  },
  {
   "cell_type": "code",
   "execution_count": 47,
   "id": "296b40c5",
   "metadata": {},
   "outputs": [
    {
     "name": "stdout",
     "output_type": "stream",
     "text": [
      "[0, 1, 2, 3, 4]\n"
     ]
    }
   ],
   "source": [
    "k=[]\n",
    "for i in range(5):\n",
    "    k.append(i)\n",
    "\n",
    "print(k)\n",
    "    "
   ]
  },
  {
   "cell_type": "code",
   "execution_count": 51,
   "id": "b73dddc3",
   "metadata": {},
   "outputs": [
    {
     "name": "stdout",
     "output_type": "stream",
     "text": [
      "[0, 1, 2, 3, 4]\n"
     ]
    }
   ],
   "source": [
    "k=[]\n",
    "for i in range(5):\n",
    "    k.append(i)\n",
    "    \n",
    "print(k)\n",
    "    "
   ]
  },
  {
   "cell_type": "code",
   "execution_count": 52,
   "id": "dd879349",
   "metadata": {},
   "outputs": [
    {
     "name": "stdout",
     "output_type": "stream",
     "text": [
      "enter any city name to be appenddelhi\n",
      "['delhi']\n",
      "enter any city name to be appendmanali\n",
      "['delhi', 'manali']\n",
      "enter any city name to be appendshamli\n",
      "['delhi', 'manali', 'shamli']\n",
      "enter any city name to be appendmumbai\n",
      "['delhi', 'manali', 'shamli', 'mumbai']\n",
      "enter any city name to be appendlucknow\n",
      "['delhi', 'manali', 'shamli', 'mumbai', 'lucknow']\n"
     ]
    }
   ],
   "source": [
    "k=[]\n",
    "for i in range(5):\n",
    "    string1=input(\"enter any city name to be append\")\n",
    "    k.append(string1)\n",
    "    print(k)\n",
    "    "
   ]
  },
  {
   "cell_type": "code",
   "execution_count": 53,
   "id": "79b14984",
   "metadata": {},
   "outputs": [
    {
     "name": "stdout",
     "output_type": "stream",
     "text": [
      "enter any city name to be appenddelhi\n",
      "enter any city name to be appendmumbai\n",
      "enter any city name to be appendlucknow\n",
      "enter any city name to be appendmanali\n",
      "enter any city name to be appendshamli\n",
      "['delhi', 'mumbai', 'lucknow', 'manali', 'shamli']\n"
     ]
    }
   ],
   "source": [
    "k=[]\n",
    "for i in range(5):\n",
    "    string1=input(\"enter any city name to be append\")\n",
    "    k.append(string1)\n",
    "    \n",
    "    \n",
    "print(k)\n",
    "    "
   ]
  },
  {
   "cell_type": "code",
   "execution_count": null,
   "id": "0f69b0e2",
   "metadata": {},
   "outputs": [
    {
     "name": "stdout",
     "output_type": "stream",
     "text": [
      "enter any city name to be appenddelhi\n",
      "['delhi']\n",
      "enter any city name to be appendmumbai\n",
      "['delhi', 'mumbai']\n",
      "enter any city name to be appendmanali\n",
      "['delhi', 'mumbai', 'manali']\n",
      "enter any city name to be appendshimla\n",
      "['delhi', 'mumbai', 'manali', 'shimla']\n"
     ]
    }
   ],
   "source": [
    "k=[]\n",
    "for i in range(5):\n",
    "    val=input(\"enter any city name to be append\")\n",
    "    k.append(val)\n",
    "    print(k)\n",
    "    "
   ]
  },
  {
   "cell_type": "code",
   "execution_count": 2,
   "id": "a358626c",
   "metadata": {},
   "outputs": [
    {
     "name": "stdout",
     "output_type": "stream",
     "text": [
      "good\n"
     ]
    }
   ],
   "source": [
    "marks=70\n",
    "\n",
    "if (marks)>50:\n",
    "    print(\"good\")\n",
    "    \n",
    "else:\n",
    "    print('avrege')\n"
   ]
  },
  {
   "cell_type": "code",
   "execution_count": 3,
   "id": "f89753c5",
   "metadata": {},
   "outputs": [
    {
     "name": "stdout",
     "output_type": "stream",
     "text": [
      "avrege\n"
     ]
    }
   ],
   "source": [
    "marks=40\n",
    "\n",
    "if (marks)>50:\n",
    "    print(\"good\")\n",
    "    \n",
    "else:\n",
    "    print('avrege')\n"
   ]
  },
  {
   "cell_type": "code",
   "execution_count": 5,
   "id": "e6bf086f",
   "metadata": {},
   "outputs": [
    {
     "name": "stdout",
     "output_type": "stream",
     "text": [
      "even number\n"
     ]
    }
   ],
   "source": [
    "if(10%2==0):\n",
    "    print('even number')\n",
    "    \n",
    "else:\n",
    "    print('odd number')"
   ]
  },
  {
   "cell_type": "code",
   "execution_count": 6,
   "id": "2c479e00",
   "metadata": {},
   "outputs": [
    {
     "name": "stdout",
     "output_type": "stream",
     "text": [
      "odd number\n"
     ]
    }
   ],
   "source": [
    "if(13%2==0):\n",
    "    print('even number')\n",
    "    \n",
    "else:\n",
    "    print('odd number')"
   ]
  },
  {
   "cell_type": "code",
   "execution_count": 13,
   "id": "492ea737",
   "metadata": {},
   "outputs": [
    {
     "name": "stdout",
     "output_type": "stream",
     "text": [
      "enter anynumber to be tested12\n",
      "even number\n"
     ]
    }
   ],
   "source": [
    "p=int(input('enter anynumber to be tested'))\n",
    "if(p%2==0):\n",
    "    print('even number')\n",
    "    \n",
    "else:\n",
    "    print('odd number')"
   ]
  },
  {
   "cell_type": "code",
   "execution_count": 16,
   "id": "e76873f9",
   "metadata": {},
   "outputs": [
    {
     "name": "stdout",
     "output_type": "stream",
     "text": [
      "enter anynumber to be tested15\n",
      "odd number\n"
     ]
    }
   ],
   "source": [
    "p=int(input('enter anynumber to be tested'))\n",
    "if(p%2==0):\n",
    "    print('even number')\n",
    "    \n",
    "else:\n",
    "    print('odd number')"
   ]
  },
  {
   "cell_type": "code",
   "execution_count": 17,
   "id": "f5e81256",
   "metadata": {},
   "outputs": [
    {
     "name": "stdout",
     "output_type": "stream",
     "text": [
      "enter anynumber to be tested17\n",
      "odd number\n"
     ]
    }
   ],
   "source": [
    "p=int(input('enter anynumber to be tested'))\n",
    "\n",
    "if (p%2==0):\n",
    "    print('even number')\n",
    "    \n",
    "else:\n",
    "    print('odd number')"
   ]
  },
  {
   "cell_type": "code",
   "execution_count": 18,
   "id": "65097526",
   "metadata": {},
   "outputs": [
    {
     "name": "stdout",
     "output_type": "stream",
     "text": [
      "enter anynumber to be tested15\n",
      "even number\n"
     ]
    }
   ],
   "source": [
    "p=int(input('enter anynumber to be tested'))\n",
    "if(p%3==0):\n",
    "    print('even number')\n",
    "    \n",
    "else:\n",
    "    print('odd number')"
   ]
  },
  {
   "cell_type": "code",
   "execution_count": 22,
   "id": "9695f71a",
   "metadata": {},
   "outputs": [
    {
     "name": "stdout",
     "output_type": "stream",
     "text": [
      "enter anynumber to be tested13\n",
      "odd number\n"
     ]
    }
   ],
   "source": [
    "p=int(input('enter anynumber to be tested'))\n",
    "\n",
    "if(p%2!=0):\n",
    "    print('odd number')\n",
    "    \n",
    "else:\n",
    "    print('even number')"
   ]
  },
  {
   "cell_type": "code",
   "execution_count": 23,
   "id": "ebae6596",
   "metadata": {},
   "outputs": [
    {
     "name": "stdout",
     "output_type": "stream",
     "text": [
      "enter anynumber to be tested12\n",
      "even number\n"
     ]
    }
   ],
   "source": [
    "p=int(input('enter anynumber to be tested'))\n",
    "\n",
    "if(p%2!=0):\n",
    "    print('odd number')\n",
    "    \n",
    "else:\n",
    "    print('even number')"
   ]
  },
  {
   "cell_type": "code",
   "execution_count": 33,
   "id": "2f5f973e",
   "metadata": {},
   "outputs": [
    {
     "name": "stdout",
     "output_type": "stream",
     "text": [
      "Enter any grade87\n",
      "Very good\n"
     ]
    }
   ],
   "source": [
    "grade=int(input('Enter any grade'))\n",
    "\n",
    "if grade>90:\n",
    "        print('Excellent')\n",
    "elif grade>80 and grade<=90:\n",
    "        print('Very good')\n",
    "elif grade>70 and grade<=80:\n",
    "        print('Good')\n",
    "elif grade>60 and grade<=70:\n",
    "        print('Averege')\n",
    "        \n",
    "else:\n",
    "        print('Poor')"
   ]
  },
  {
   "cell_type": "code",
   "execution_count": 34,
   "id": "5f6e9b1f",
   "metadata": {},
   "outputs": [
    {
     "name": "stdout",
     "output_type": "stream",
     "text": [
      "Enter any grade57\n",
      "Poor\n"
     ]
    }
   ],
   "source": [
    "grade=int(input('Enter any grade'))\n",
    "\n",
    "if grade>90:\n",
    "        print('Excellent')\n",
    "elif grade>80 and grade<=90:\n",
    "        print('Very good')\n",
    "elif grade>70 and grade<=80:\n",
    "        print('Good')\n",
    "elif grade>60 and grade<=70:\n",
    "        print('Averege')\n",
    "        \n",
    "else:\n",
    "        print('Poor')"
   ]
  },
  {
   "cell_type": "code",
   "execution_count": 35,
   "id": "2311c2e6",
   "metadata": {},
   "outputs": [
    {
     "name": "stdout",
     "output_type": "stream",
     "text": [
      "Enter any grade65\n",
      "Averege\n"
     ]
    }
   ],
   "source": [
    "grade=int(input('Enter any grade'))\n",
    "\n",
    "if grade>90:\n",
    "        print('Excellent')\n",
    "elif grade>80 and grade<=90:\n",
    "        print('Very good')\n",
    "elif grade>70 and grade<=80:\n",
    "        print('Good')\n",
    "elif grade>60 and grade<=70:\n",
    "        print('Averege')\n",
    "        \n",
    "else:\n",
    "        print('Poor')"
   ]
  },
  {
   "cell_type": "code",
   "execution_count": null,
   "id": "e28d69ef",
   "metadata": {},
   "outputs": [],
   "source": []
  }
 ],
 "metadata": {
  "kernelspec": {
   "display_name": "Python 3 (ipykernel)",
   "language": "python",
   "name": "python3"
  },
  "language_info": {
   "codemirror_mode": {
    "name": "ipython",
    "version": 3
   },
   "file_extension": ".py",
   "mimetype": "text/x-python",
   "name": "python",
   "nbconvert_exporter": "python",
   "pygments_lexer": "ipython3",
   "version": "3.9.12"
  }
 },
 "nbformat": 4,
 "nbformat_minor": 5
}
