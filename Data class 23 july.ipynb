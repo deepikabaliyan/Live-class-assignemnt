{
 "cells": [
  {
   "cell_type": "markdown",
   "id": "9f01159d",
   "metadata": {},
   "source": [
    "break and contiune"
   ]
  },
  {
   "cell_type": "code",
   "execution_count": 7,
   "id": "ea54a945",
   "metadata": {},
   "outputs": [
    {
     "name": "stdout",
     "output_type": "stream",
     "text": [
      "Apple\n",
      "Banana\n",
      "mango\n",
      "banana\n"
     ]
    }
   ],
   "source": [
    "for i in['Apple','Banana','mango','banana']:\n",
    "    print(i)"
   ]
  },
  {
   "cell_type": "code",
   "execution_count": 12,
   "id": "3a6b6055",
   "metadata": {},
   "outputs": [
    {
     "name": "stdout",
     "output_type": "stream",
     "text": [
      "Apple\n"
     ]
    }
   ],
   "source": [
    "for i in['Apple','Banana','Mango','Grapes']:\n",
    "    if(i=='Banana'):\n",
    "        break\n",
    "    print(i)"
   ]
  },
  {
   "cell_type": "code",
   "execution_count": 13,
   "id": "6447adb0",
   "metadata": {},
   "outputs": [
    {
     "name": "stdout",
     "output_type": "stream",
     "text": [
      "Apple\n",
      "Banana\n"
     ]
    }
   ],
   "source": [
    "for i in['Apple','Banana','Mango','Grapes']:\n",
    "    if(i=='Mango'):\n",
    "        break\n",
    "    print(i)"
   ]
  },
  {
   "cell_type": "code",
   "execution_count": 16,
   "id": "7a9814ae",
   "metadata": {},
   "outputs": [
    {
     "name": "stdout",
     "output_type": "stream",
     "text": [
      "100\n",
      "200\n",
      "300\n",
      "400\n",
      "500\n"
     ]
    }
   ],
   "source": [
    "for x in[100,200,300,400,500]:\n",
    "    print(x)"
   ]
  },
  {
   "cell_type": "code",
   "execution_count": 18,
   "id": "e21b191a",
   "metadata": {},
   "outputs": [
    {
     "name": "stdout",
     "output_type": "stream",
     "text": [
      "100\n",
      "200\n"
     ]
    }
   ],
   "source": [
    "for x in[100,200,300,400,500]:\n",
    "    if(x==300):\n",
    "        break\n",
    "    print(x)"
   ]
  },
  {
   "cell_type": "code",
   "execution_count": 19,
   "id": "333af605",
   "metadata": {},
   "outputs": [
    {
     "name": "stdout",
     "output_type": "stream",
     "text": [
      "100\n",
      "200\n",
      "End of the loop\n"
     ]
    }
   ],
   "source": [
    "for x in[100,200,300,400,500]:\n",
    "    if(x==300):\n",
    "        break\n",
    "    print(x)\n",
    "    \n",
    "print('End of the loop')"
   ]
  },
  {
   "cell_type": "code",
   "execution_count": 22,
   "id": "1578217a",
   "metadata": {},
   "outputs": [
    {
     "name": "stdout",
     "output_type": "stream",
     "text": [
      "End inside the loop\n",
      "100\n",
      "End inside the loop\n",
      "200\n",
      "End outside the for loop\n"
     ]
    }
   ],
   "source": [
    "for x in[100,200,300,400,500]:\n",
    "    if(x==300):\n",
    "        break\n",
    "    print('End inside the loop')\n",
    "    print(x)\n",
    "    \n",
    "print('End outside the for loop')"
   ]
  },
  {
   "cell_type": "code",
   "execution_count": 23,
   "id": "21037ba1",
   "metadata": {},
   "outputs": [
    {
     "name": "stdout",
     "output_type": "stream",
     "text": [
      "End\n",
      "100\n",
      "End\n",
      "200\n",
      "End outside the for loop\n"
     ]
    }
   ],
   "source": [
    "for x in[100,200,300,400,500]:\n",
    "    if(x==300):\n",
    "        break\n",
    "    print('End')\n",
    "    print(x)\n",
    "    \n",
    "print('End outside the for loop')"
   ]
  },
  {
   "cell_type": "code",
   "execution_count": 24,
   "id": "fb187a39",
   "metadata": {},
   "outputs": [
    {
     "name": "stdout",
     "output_type": "stream",
     "text": [
      "End inside the loop\n",
      "100\n",
      "End inside the loop\n",
      "200\n",
      "End inside the loop\n",
      "300\n",
      "End outside the for loop\n"
     ]
    }
   ],
   "source": [
    "for x in[100,200,300,400,500]:\n",
    "    if(x==400):\n",
    "        break\n",
    "    print('End inside the loop')\n",
    "    print(x)\n",
    "    \n",
    "print('End outside the for loop')"
   ]
  },
  {
   "cell_type": "code",
   "execution_count": null,
   "id": "dc8dd41e",
   "metadata": {},
   "outputs": [],
   "source": []
  }
 ],
 "metadata": {
  "kernelspec": {
   "display_name": "Python 3 (ipykernel)",
   "language": "python",
   "name": "python3"
  },
  "language_info": {
   "codemirror_mode": {
    "name": "ipython",
    "version": 3
   },
   "file_extension": ".py",
   "mimetype": "text/x-python",
   "name": "python",
   "nbconvert_exporter": "python",
   "pygments_lexer": "ipython3",
   "version": "3.9.12"
  }
 },
 "nbformat": 4,
 "nbformat_minor": 5
}
