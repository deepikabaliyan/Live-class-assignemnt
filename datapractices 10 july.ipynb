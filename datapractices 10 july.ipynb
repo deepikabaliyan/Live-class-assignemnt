{
 "cells": [
  {
   "cell_type": "markdown",
   "id": "f29cf963",
   "metadata": {},
   "source": [
    "Dictionary...key value pair"
   ]
  },
  {
   "cell_type": "markdown",
   "id": "c799fb16",
   "metadata": {},
   "source": [
    "d1{key1:value1,key2:value2,key3:value3}"
   ]
  },
  {
   "cell_type": "code",
   "execution_count": 6,
   "id": "c248cf35",
   "metadata": {},
   "outputs": [],
   "source": [
    "d1={'id':1,'name':'andrew','age':14}"
   ]
  },
  {
   "cell_type": "code",
   "execution_count": 7,
   "id": "8e1aa663",
   "metadata": {},
   "outputs": [
    {
     "data": {
      "text/plain": [
       "{'id': 1, 'name': 'andrew', 'age': 14}"
      ]
     },
     "execution_count": 7,
     "metadata": {},
     "output_type": "execute_result"
    }
   ],
   "source": [
    "d1"
   ]
  },
  {
   "cell_type": "code",
   "execution_count": 8,
   "id": "06a6a8f8",
   "metadata": {},
   "outputs": [
    {
     "data": {
      "text/plain": [
       "dict_keys(['id', 'name', 'age'])"
      ]
     },
     "execution_count": 8,
     "metadata": {},
     "output_type": "execute_result"
    }
   ],
   "source": [
    "d1.keys()"
   ]
  },
  {
   "cell_type": "code",
   "execution_count": 9,
   "id": "4058bcc6",
   "metadata": {},
   "outputs": [
    {
     "data": {
      "text/plain": [
       "dict_values([1, 'andrew', 14])"
      ]
     },
     "execution_count": 9,
     "metadata": {},
     "output_type": "execute_result"
    }
   ],
   "source": [
    "d1.values()"
   ]
  },
  {
   "cell_type": "code",
   "execution_count": 10,
   "id": "3fea46bf",
   "metadata": {},
   "outputs": [
    {
     "data": {
      "text/plain": [
       "dict_items([('id', 1), ('name', 'andrew'), ('age', 14)])"
      ]
     },
     "execution_count": 10,
     "metadata": {},
     "output_type": "execute_result"
    }
   ],
   "source": [
    "d1.items()"
   ]
  },
  {
   "cell_type": "code",
   "execution_count": 11,
   "id": "c1f0765a",
   "metadata": {},
   "outputs": [
    {
     "data": {
      "text/plain": [
       "{'id': 1, 'name': 'andrew', 'age': 14}"
      ]
     },
     "execution_count": 11,
     "metadata": {},
     "output_type": "execute_result"
    }
   ],
   "source": [
    "d1"
   ]
  },
  {
   "cell_type": "code",
   "execution_count": 12,
   "id": "c4804ce6",
   "metadata": {},
   "outputs": [
    {
     "data": {
      "text/plain": [
       "1"
      ]
     },
     "execution_count": 12,
     "metadata": {},
     "output_type": "execute_result"
    }
   ],
   "source": [
    "d1['id']"
   ]
  },
  {
   "cell_type": "code",
   "execution_count": 13,
   "id": "30ba6aad",
   "metadata": {},
   "outputs": [
    {
     "data": {
      "text/plain": [
       "'andrew'"
      ]
     },
     "execution_count": 13,
     "metadata": {},
     "output_type": "execute_result"
    }
   ],
   "source": [
    "d1['name']"
   ]
  },
  {
   "cell_type": "code",
   "execution_count": 14,
   "id": "7f109a73",
   "metadata": {},
   "outputs": [
    {
     "data": {
      "text/plain": [
       "14"
      ]
     },
     "execution_count": 14,
     "metadata": {},
     "output_type": "execute_result"
    }
   ],
   "source": [
    "d1['age']"
   ]
  },
  {
   "cell_type": "code",
   "execution_count": 15,
   "id": "892b536d",
   "metadata": {},
   "outputs": [
    {
     "name": "stdout",
     "output_type": "stream",
     "text": [
      "the id is 1\n"
     ]
    }
   ],
   "source": [
    "print('the id is',d1['id'])"
   ]
  },
  {
   "cell_type": "code",
   "execution_count": 16,
   "id": "d9bd6f34",
   "metadata": {},
   "outputs": [
    {
     "name": "stdout",
     "output_type": "stream",
     "text": [
      "the nameis andrew\n"
     ]
    }
   ],
   "source": [
    "print('the nameis',d1['name'])"
   ]
  },
  {
   "cell_type": "code",
   "execution_count": 17,
   "id": "5ebc4a1a",
   "metadata": {},
   "outputs": [
    {
     "name": "stdout",
     "output_type": "stream",
     "text": [
      "then age is 14\n"
     ]
    }
   ],
   "source": [
    "print('then age is',d1['age'])"
   ]
  },
  {
   "cell_type": "code",
   "execution_count": 18,
   "id": "0dd51097",
   "metadata": {},
   "outputs": [],
   "source": [
    "d1['age']=24"
   ]
  },
  {
   "cell_type": "code",
   "execution_count": 19,
   "id": "bc9c40a2",
   "metadata": {},
   "outputs": [
    {
     "data": {
      "text/plain": [
       "{'id': 1, 'name': 'andrew', 'age': 24}"
      ]
     },
     "execution_count": 19,
     "metadata": {},
     "output_type": "execute_result"
    }
   ],
   "source": [
    "d1"
   ]
  },
  {
   "cell_type": "code",
   "execution_count": 20,
   "id": "2160cb3e",
   "metadata": {},
   "outputs": [],
   "source": [
    "d1['name']= 'john'"
   ]
  },
  {
   "cell_type": "code",
   "execution_count": 21,
   "id": "366c50c0",
   "metadata": {},
   "outputs": [
    {
     "data": {
      "text/plain": [
       "{'id': 1, 'name': 'john', 'age': 24}"
      ]
     },
     "execution_count": 21,
     "metadata": {},
     "output_type": "execute_result"
    }
   ],
   "source": [
    "d1"
   ]
  },
  {
   "cell_type": "code",
   "execution_count": 22,
   "id": "40e104c6",
   "metadata": {},
   "outputs": [],
   "source": [
    "d1.update({\"fees\":500})"
   ]
  },
  {
   "cell_type": "code",
   "execution_count": 23,
   "id": "b6e44631",
   "metadata": {},
   "outputs": [
    {
     "data": {
      "text/plain": [
       "{'id': 1, 'name': 'john', 'age': 24, 'fees': 500}"
      ]
     },
     "execution_count": 23,
     "metadata": {},
     "output_type": "execute_result"
    }
   ],
   "source": [
    "d1"
   ]
  },
  {
   "cell_type": "code",
   "execution_count": 24,
   "id": "ad7e56c9",
   "metadata": {},
   "outputs": [],
   "source": [
    "d1['fees']=599"
   ]
  },
  {
   "cell_type": "code",
   "execution_count": 25,
   "id": "77fe001d",
   "metadata": {},
   "outputs": [
    {
     "data": {
      "text/plain": [
       "{'id': 1, 'name': 'john', 'age': 24, 'fees': 599}"
      ]
     },
     "execution_count": 25,
     "metadata": {},
     "output_type": "execute_result"
    }
   ],
   "source": [
    "d1"
   ]
  },
  {
   "cell_type": "code",
   "execution_count": 26,
   "id": "8b048f58",
   "metadata": {},
   "outputs": [],
   "source": [
    "del d1['age']"
   ]
  },
  {
   "cell_type": "code",
   "execution_count": 27,
   "id": "256e5e49",
   "metadata": {},
   "outputs": [
    {
     "data": {
      "text/plain": [
       "{'id': 1, 'name': 'john', 'fees': 599}"
      ]
     },
     "execution_count": 27,
     "metadata": {},
     "output_type": "execute_result"
    }
   ],
   "source": [
    "d1"
   ]
  },
  {
   "cell_type": "code",
   "execution_count": 28,
   "id": "a3e34e9e",
   "metadata": {},
   "outputs": [],
   "source": [
    "d1.update({'age':24})"
   ]
  },
  {
   "cell_type": "code",
   "execution_count": 29,
   "id": "4b347ff3",
   "metadata": {},
   "outputs": [
    {
     "data": {
      "text/plain": [
       "{'id': 1, 'name': 'john', 'fees': 599, 'age': 24}"
      ]
     },
     "execution_count": 29,
     "metadata": {},
     "output_type": "execute_result"
    }
   ],
   "source": [
    "d1"
   ]
  },
  {
   "cell_type": "code",
   "execution_count": 30,
   "id": "9a22ecae",
   "metadata": {},
   "outputs": [],
   "source": [
    "d1.clear()"
   ]
  },
  {
   "cell_type": "code",
   "execution_count": 31,
   "id": "70ce8d1d",
   "metadata": {},
   "outputs": [
    {
     "data": {
      "text/plain": [
       "{}"
      ]
     },
     "execution_count": 31,
     "metadata": {},
     "output_type": "execute_result"
    }
   ],
   "source": [
    "d1"
   ]
  },
  {
   "cell_type": "code",
   "execution_count": 32,
   "id": "4fbbcd30",
   "metadata": {},
   "outputs": [],
   "source": [
    "d1.update({\"class\":2})"
   ]
  },
  {
   "cell_type": "code",
   "execution_count": 33,
   "id": "27e94ee2",
   "metadata": {},
   "outputs": [
    {
     "data": {
      "text/plain": [
       "{'class': 2}"
      ]
     },
     "execution_count": 33,
     "metadata": {},
     "output_type": "execute_result"
    }
   ],
   "source": [
    "d1"
   ]
  },
  {
   "cell_type": "code",
   "execution_count": 34,
   "id": "4103781f",
   "metadata": {},
   "outputs": [],
   "source": [
    "del d1"
   ]
  },
  {
   "cell_type": "code",
   "execution_count": 35,
   "id": "88d637a1",
   "metadata": {},
   "outputs": [
    {
     "ename": "NameError",
     "evalue": "name 'd1' is not defined",
     "output_type": "error",
     "traceback": [
      "\u001b[1;31m---------------------------------------------------------------------------\u001b[0m",
      "\u001b[1;31mNameError\u001b[0m                                 Traceback (most recent call last)",
      "Input \u001b[1;32mIn [35]\u001b[0m, in \u001b[0;36m<cell line: 1>\u001b[1;34m()\u001b[0m\n\u001b[1;32m----> 1\u001b[0m \u001b[43md1\u001b[49m\n",
      "\u001b[1;31mNameError\u001b[0m: name 'd1' is not defined"
     ]
    }
   ],
   "source": [
    "d1"
   ]
  },
  {
   "cell_type": "code",
   "execution_count": 36,
   "id": "2f67e422",
   "metadata": {},
   "outputs": [],
   "source": [
    "d2={'apple':'red','tree':'brown','mango':'yellow'}"
   ]
  },
  {
   "cell_type": "code",
   "execution_count": 37,
   "id": "6135fe28",
   "metadata": {},
   "outputs": [
    {
     "data": {
      "text/plain": [
       "{'apple': 'red', 'tree': 'brown', 'mango': 'yellow'}"
      ]
     },
     "execution_count": 37,
     "metadata": {},
     "output_type": "execute_result"
    }
   ],
   "source": [
    "d2"
   ]
  },
  {
   "cell_type": "code",
   "execution_count": 38,
   "id": "6d166edc",
   "metadata": {},
   "outputs": [
    {
     "data": {
      "text/plain": [
       "dict_values(['red', 'brown', 'yellow'])"
      ]
     },
     "execution_count": 38,
     "metadata": {},
     "output_type": "execute_result"
    }
   ],
   "source": [
    "d2.values()"
   ]
  },
  {
   "cell_type": "code",
   "execution_count": 39,
   "id": "b77ade6a",
   "metadata": {},
   "outputs": [
    {
     "data": {
      "text/plain": [
       "dict_keys(['apple', 'tree', 'mango'])"
      ]
     },
     "execution_count": 39,
     "metadata": {},
     "output_type": "execute_result"
    }
   ],
   "source": [
    "d2.keys()"
   ]
  },
  {
   "cell_type": "code",
   "execution_count": 40,
   "id": "a7b4f846",
   "metadata": {},
   "outputs": [
    {
     "data": {
      "text/plain": [
       "dict_items([('apple', 'red'), ('tree', 'brown'), ('mango', 'yellow')])"
      ]
     },
     "execution_count": 40,
     "metadata": {},
     "output_type": "execute_result"
    }
   ],
   "source": [
    "d2.items()"
   ]
  },
  {
   "cell_type": "code",
   "execution_count": 41,
   "id": "b0e32ed0",
   "metadata": {},
   "outputs": [],
   "source": [
    "d2.update({'grapes':'green'})"
   ]
  },
  {
   "cell_type": "code",
   "execution_count": 42,
   "id": "8b8b1255",
   "metadata": {},
   "outputs": [
    {
     "data": {
      "text/plain": [
       "{'apple': 'red', 'tree': 'brown', 'mango': 'yellow', 'grapes': 'green'}"
      ]
     },
     "execution_count": 42,
     "metadata": {},
     "output_type": "execute_result"
    }
   ],
   "source": [
    "d2"
   ]
  },
  {
   "cell_type": "code",
   "execution_count": 43,
   "id": "0102bf4d",
   "metadata": {},
   "outputs": [
    {
     "data": {
      "text/plain": [
       "'red'"
      ]
     },
     "execution_count": 43,
     "metadata": {},
     "output_type": "execute_result"
    }
   ],
   "source": [
    "d2['apple']"
   ]
  },
  {
   "cell_type": "code",
   "execution_count": 44,
   "id": "07402a33",
   "metadata": {},
   "outputs": [
    {
     "data": {
      "text/plain": [
       "'green'"
      ]
     },
     "execution_count": 44,
     "metadata": {},
     "output_type": "execute_result"
    }
   ],
   "source": [
    "d2['grapes']"
   ]
  },
  {
   "cell_type": "code",
   "execution_count": 45,
   "id": "db892426",
   "metadata": {},
   "outputs": [],
   "source": [
    "d2['apple']='yellow_red'"
   ]
  },
  {
   "cell_type": "code",
   "execution_count": 46,
   "id": "aeece643",
   "metadata": {},
   "outputs": [
    {
     "data": {
      "text/plain": [
       "{'apple': 'yellow_red', 'tree': 'brown', 'mango': 'yellow', 'grapes': 'green'}"
      ]
     },
     "execution_count": 46,
     "metadata": {},
     "output_type": "execute_result"
    }
   ],
   "source": [
    "d2"
   ]
  },
  {
   "cell_type": "code",
   "execution_count": 47,
   "id": "3ced0bad",
   "metadata": {},
   "outputs": [],
   "source": [
    "del d2['mango']"
   ]
  },
  {
   "cell_type": "code",
   "execution_count": 48,
   "id": "250d3b7e",
   "metadata": {},
   "outputs": [
    {
     "data": {
      "text/plain": [
       "{'apple': 'yellow_red', 'tree': 'brown', 'grapes': 'green'}"
      ]
     },
     "execution_count": 48,
     "metadata": {},
     "output_type": "execute_result"
    }
   ],
   "source": [
    "d2"
   ]
  },
  {
   "cell_type": "code",
   "execution_count": 49,
   "id": "1e66a929",
   "metadata": {},
   "outputs": [],
   "source": [
    "d2.clear()"
   ]
  },
  {
   "cell_type": "code",
   "execution_count": 50,
   "id": "6f083cbd",
   "metadata": {},
   "outputs": [
    {
     "data": {
      "text/plain": [
       "{}"
      ]
     },
     "execution_count": 50,
     "metadata": {},
     "output_type": "execute_result"
    }
   ],
   "source": [
    "d2"
   ]
  },
  {
   "cell_type": "code",
   "execution_count": 51,
   "id": "8638e940",
   "metadata": {},
   "outputs": [],
   "source": [
    "# dictionary with integer key:\n",
    "intdict={10:\"c++\", 30:\"java\",40:\"python\", 60:\"ruby\"}"
   ]
  },
  {
   "cell_type": "code",
   "execution_count": 52,
   "id": "f4ad27b8",
   "metadata": {},
   "outputs": [
    {
     "data": {
      "text/plain": [
       "{10: 'c++', 30: 'java', 40: 'python', 60: 'ruby'}"
      ]
     },
     "execution_count": 52,
     "metadata": {},
     "output_type": "execute_result"
    }
   ],
   "source": [
    "intdict"
   ]
  },
  {
   "cell_type": "code",
   "execution_count": 53,
   "id": "0ebdc6fc",
   "metadata": {},
   "outputs": [
    {
     "data": {
      "text/plain": [
       "dict_keys([10, 30, 40, 60])"
      ]
     },
     "execution_count": 53,
     "metadata": {},
     "output_type": "execute_result"
    }
   ],
   "source": [
    "intdict.keys()"
   ]
  },
  {
   "cell_type": "code",
   "execution_count": 54,
   "id": "3733de4b",
   "metadata": {},
   "outputs": [
    {
     "data": {
      "text/plain": [
       "dict_values(['c++', 'java', 'python', 'ruby'])"
      ]
     },
     "execution_count": 54,
     "metadata": {},
     "output_type": "execute_result"
    }
   ],
   "source": [
    "intdict.values()"
   ]
  },
  {
   "cell_type": "code",
   "execution_count": 55,
   "id": "4c324506",
   "metadata": {},
   "outputs": [
    {
     "data": {
      "text/plain": [
       "dict_items([(10, 'c++'), (30, 'java'), (40, 'python'), (60, 'ruby')])"
      ]
     },
     "execution_count": 55,
     "metadata": {},
     "output_type": "execute_result"
    }
   ],
   "source": [
    "intdict.items()"
   ]
  },
  {
   "cell_type": "code",
   "execution_count": 56,
   "id": "dc23c2d4",
   "metadata": {},
   "outputs": [],
   "source": [
    "# adding a new key in dictionary\n",
    "intdict.update({500:\"rails\"})"
   ]
  },
  {
   "cell_type": "code",
   "execution_count": 57,
   "id": "9b68c22a",
   "metadata": {},
   "outputs": [
    {
     "data": {
      "text/plain": [
       "{10: 'c++', 30: 'java', 40: 'python', 60: 'ruby', 500: 'rails'}"
      ]
     },
     "execution_count": 57,
     "metadata": {},
     "output_type": "execute_result"
    }
   ],
   "source": [
    "intdict"
   ]
  },
  {
   "cell_type": "code",
   "execution_count": 58,
   "id": "b6f495f5",
   "metadata": {},
   "outputs": [],
   "source": [
    "#updating a value in given key\n",
    "intdict[40]=\"csharp\""
   ]
  },
  {
   "cell_type": "code",
   "execution_count": 59,
   "id": "ea6b6b83",
   "metadata": {},
   "outputs": [
    {
     "data": {
      "text/plain": [
       "{10: 'c++', 30: 'java', 40: 'csharp', 60: 'ruby', 500: 'rails'}"
      ]
     },
     "execution_count": 59,
     "metadata": {},
     "output_type": "execute_result"
    }
   ],
   "source": [
    "intdict"
   ]
  },
  {
   "cell_type": "code",
   "execution_count": 60,
   "id": "f93ff4f5",
   "metadata": {},
   "outputs": [],
   "source": [
    "del intdict[30]"
   ]
  },
  {
   "cell_type": "code",
   "execution_count": 61,
   "id": "04bc64f7",
   "metadata": {},
   "outputs": [
    {
     "data": {
      "text/plain": [
       "{10: 'c++', 40: 'csharp', 60: 'ruby', 500: 'rails'}"
      ]
     },
     "execution_count": 61,
     "metadata": {},
     "output_type": "execute_result"
    }
   ],
   "source": [
    "intdict"
   ]
  },
  {
   "cell_type": "code",
   "execution_count": 62,
   "id": "fe27dcf9",
   "metadata": {},
   "outputs": [
    {
     "data": {
      "text/plain": [
       "'csharp'"
      ]
     },
     "execution_count": 62,
     "metadata": {},
     "output_type": "execute_result"
    }
   ],
   "source": [
    "#deleting with pop\n",
    "intdict.pop(40)"
   ]
  },
  {
   "cell_type": "code",
   "execution_count": 63,
   "id": "91e7b42b",
   "metadata": {},
   "outputs": [
    {
     "data": {
      "text/plain": [
       "{10: 'c++', 60: 'ruby', 500: 'rails'}"
      ]
     },
     "execution_count": 63,
     "metadata": {},
     "output_type": "execute_result"
    }
   ],
   "source": [
    "intdict"
   ]
  },
  {
   "cell_type": "code",
   "execution_count": 64,
   "id": "eca9e1fd",
   "metadata": {},
   "outputs": [],
   "source": [
    "# dictionary with multiple elements\n",
    "\n",
    "d3={1:[\"yello\",\"green\",\"red\"],2:[\"mango\",\"grapes\",\"apple\"],3:[\"sunflower\",\"lily\",\"rose\"]}"
   ]
  },
  {
   "cell_type": "code",
   "execution_count": 65,
   "id": "b6b3e6fa",
   "metadata": {},
   "outputs": [
    {
     "data": {
      "text/plain": [
       "{1: ['yello', 'green', 'red'],\n",
       " 2: ['mango', 'grapes', 'apple'],\n",
       " 3: ['sunflower', 'lily', 'rose']}"
      ]
     },
     "execution_count": 65,
     "metadata": {},
     "output_type": "execute_result"
    }
   ],
   "source": [
    "d3"
   ]
  },
  {
   "cell_type": "code",
   "execution_count": 66,
   "id": "e91278c3",
   "metadata": {},
   "outputs": [
    {
     "data": {
      "text/plain": [
       "['yello', 'green', 'red']"
      ]
     },
     "execution_count": 66,
     "metadata": {},
     "output_type": "execute_result"
    }
   ],
   "source": [
    "d3[1]"
   ]
  },
  {
   "cell_type": "code",
   "execution_count": 67,
   "id": "b512dcd7",
   "metadata": {},
   "outputs": [
    {
     "data": {
      "text/plain": [
       "['mango', 'grapes', 'apple']"
      ]
     },
     "execution_count": 67,
     "metadata": {},
     "output_type": "execute_result"
    }
   ],
   "source": [
    "d3[2]"
   ]
  },
  {
   "cell_type": "code",
   "execution_count": 68,
   "id": "c9a2d0c6",
   "metadata": {},
   "outputs": [
    {
     "data": {
      "text/plain": [
       "['sunflower', 'lily', 'rose']"
      ]
     },
     "execution_count": 68,
     "metadata": {},
     "output_type": "execute_result"
    }
   ],
   "source": [
    "d3[3]"
   ]
  },
  {
   "cell_type": "code",
   "execution_count": 69,
   "id": "bf74dacb",
   "metadata": {},
   "outputs": [
    {
     "data": {
      "text/plain": [
       "dict_values([['yello', 'green', 'red'], ['mango', 'grapes', 'apple'], ['sunflower', 'lily', 'rose']])"
      ]
     },
     "execution_count": 69,
     "metadata": {},
     "output_type": "execute_result"
    }
   ],
   "source": [
    "d3.values()"
   ]
  },
  {
   "cell_type": "code",
   "execution_count": 70,
   "id": "92f2ef6d",
   "metadata": {},
   "outputs": [
    {
     "data": {
      "text/plain": [
       "dict_keys([1, 2, 3])"
      ]
     },
     "execution_count": 70,
     "metadata": {},
     "output_type": "execute_result"
    }
   ],
   "source": [
    "d3.keys()"
   ]
  },
  {
   "cell_type": "code",
   "execution_count": 71,
   "id": "cf66fd80",
   "metadata": {},
   "outputs": [
    {
     "data": {
      "text/plain": [
       "dict_items([(1, ['yello', 'green', 'red']), (2, ['mango', 'grapes', 'apple']), (3, ['sunflower', 'lily', 'rose'])])"
      ]
     },
     "execution_count": 71,
     "metadata": {},
     "output_type": "execute_result"
    }
   ],
   "source": [
    "d3.items()"
   ]
  },
  {
   "cell_type": "code",
   "execution_count": 72,
   "id": "fbf248a0",
   "metadata": {},
   "outputs": [
    {
     "data": {
      "text/plain": [
       "'yello'"
      ]
     },
     "execution_count": 72,
     "metadata": {},
     "output_type": "execute_result"
    }
   ],
   "source": [
    "d3[1][0]"
   ]
  },
  {
   "cell_type": "code",
   "execution_count": 73,
   "id": "8a1402f3",
   "metadata": {},
   "outputs": [
    {
     "data": {
      "text/plain": [
       "'apple'"
      ]
     },
     "execution_count": 73,
     "metadata": {},
     "output_type": "execute_result"
    }
   ],
   "source": [
    "d3[2][2]"
   ]
  },
  {
   "cell_type": "code",
   "execution_count": 74,
   "id": "67684c38",
   "metadata": {},
   "outputs": [
    {
     "data": {
      "text/plain": [
       "'lily'"
      ]
     },
     "execution_count": 74,
     "metadata": {},
     "output_type": "execute_result"
    }
   ],
   "source": [
    "d3[3][1]"
   ]
  },
  {
   "cell_type": "code",
   "execution_count": 75,
   "id": "6852e68a",
   "metadata": {},
   "outputs": [],
   "source": [
    "d3[1][1]=\"purple\""
   ]
  },
  {
   "cell_type": "code",
   "execution_count": 76,
   "id": "cd7ee5dd",
   "metadata": {},
   "outputs": [
    {
     "data": {
      "text/plain": [
       "{1: ['yello', 'purple', 'red'],\n",
       " 2: ['mango', 'grapes', 'apple'],\n",
       " 3: ['sunflower', 'lily', 'rose']}"
      ]
     },
     "execution_count": 76,
     "metadata": {},
     "output_type": "execute_result"
    }
   ],
   "source": [
    "d3"
   ]
  },
  {
   "cell_type": "code",
   "execution_count": 77,
   "id": "a2f6e741",
   "metadata": {},
   "outputs": [],
   "source": [
    "d3[2][2]=\"pineapple\""
   ]
  },
  {
   "cell_type": "code",
   "execution_count": 78,
   "id": "7369e789",
   "metadata": {},
   "outputs": [
    {
     "data": {
      "text/plain": [
       "{1: ['yello', 'purple', 'red'],\n",
       " 2: ['mango', 'grapes', 'pineapple'],\n",
       " 3: ['sunflower', 'lily', 'rose']}"
      ]
     },
     "execution_count": 78,
     "metadata": {},
     "output_type": "execute_result"
    }
   ],
   "source": [
    "d3"
   ]
  },
  {
   "cell_type": "markdown",
   "id": "972f53df",
   "metadata": {},
   "source": [
    "# set"
   ]
  },
  {
   "cell_type": "code",
   "execution_count": 86,
   "id": "b8476021",
   "metadata": {},
   "outputs": [
    {
     "data": {
      "text/plain": [
       "{10, 20, 30, 40, 50}"
      ]
     },
     "execution_count": 86,
     "metadata": {},
     "output_type": "execute_result"
    }
   ],
   "source": [
    "a={10,20,30,40,10,50}\n",
    "a"
   ]
  },
  {
   "cell_type": "code",
   "execution_count": 80,
   "id": "62ff3dd8",
   "metadata": {},
   "outputs": [
    {
     "data": {
      "text/plain": [
       "{10, 20, 30, 40, 50}"
      ]
     },
     "execution_count": 80,
     "metadata": {},
     "output_type": "execute_result"
    }
   ],
   "source": [
    "a"
   ]
  },
  {
   "cell_type": "code",
   "execution_count": 85,
   "id": "5759a0ab",
   "metadata": {},
   "outputs": [
    {
     "data": {
      "text/plain": [
       "{12, 16, 17, 18, 19}"
      ]
     },
     "execution_count": 85,
     "metadata": {},
     "output_type": "execute_result"
    }
   ],
   "source": [
    "b=set([12,16,17,18,19])\n",
    "b"
   ]
  },
  {
   "cell_type": "code",
   "execution_count": 83,
   "id": "b35159dd",
   "metadata": {},
   "outputs": [
    {
     "data": {
      "text/plain": [
       "set"
      ]
     },
     "execution_count": 83,
     "metadata": {},
     "output_type": "execute_result"
    }
   ],
   "source": [
    "set"
   ]
  },
  {
   "cell_type": "code",
   "execution_count": 84,
   "id": "56ad77de",
   "metadata": {},
   "outputs": [
    {
     "data": {
      "text/plain": [
       "{12, 16, 17, 18, 19}"
      ]
     },
     "execution_count": 84,
     "metadata": {},
     "output_type": "execute_result"
    }
   ],
   "source": [
    "b"
   ]
  },
  {
   "cell_type": "code",
   "execution_count": 87,
   "id": "49e940e1",
   "metadata": {},
   "outputs": [
    {
     "name": "stdout",
     "output_type": "stream",
     "text": [
      "{'tuesday', 'wednesday', 'monday'}\n"
     ]
    }
   ],
   "source": [
    "days={'monday','tuesday','wednesday'}\n",
    "print(days)"
   ]
  },
  {
   "cell_type": "code",
   "execution_count": 88,
   "id": "d9045319",
   "metadata": {},
   "outputs": [],
   "source": [
    "days.add('friday')"
   ]
  },
  {
   "cell_type": "code",
   "execution_count": 89,
   "id": "dc0e31d3",
   "metadata": {},
   "outputs": [
    {
     "data": {
      "text/plain": [
       "{'friday', 'monday', 'tuesday', 'wednesday'}"
      ]
     },
     "execution_count": 89,
     "metadata": {},
     "output_type": "execute_result"
    }
   ],
   "source": [
    "days"
   ]
  },
  {
   "cell_type": "code",
   "execution_count": 90,
   "id": "89bc9d96",
   "metadata": {},
   "outputs": [],
   "source": [
    "days={'friday','monday','monday','tuesday','friday','wednesday'}"
   ]
  },
  {
   "cell_type": "code",
   "execution_count": 91,
   "id": "8d23728b",
   "metadata": {},
   "outputs": [
    {
     "data": {
      "text/plain": [
       "{'friday', 'monday', 'tuesday', 'wednesday'}"
      ]
     },
     "execution_count": 91,
     "metadata": {},
     "output_type": "execute_result"
    }
   ],
   "source": [
    "days"
   ]
  },
  {
   "cell_type": "code",
   "execution_count": 93,
   "id": "8876e2e7",
   "metadata": {},
   "outputs": [],
   "source": [
    "days.add('saturday')"
   ]
  },
  {
   "cell_type": "code",
   "execution_count": 94,
   "id": "48e29c15",
   "metadata": {},
   "outputs": [
    {
     "data": {
      "text/plain": [
       "{'friday', 'monday', 'saturday', 'tuesday', 'wednesday'}"
      ]
     },
     "execution_count": 94,
     "metadata": {},
     "output_type": "execute_result"
    }
   ],
   "source": [
    "days"
   ]
  },
  {
   "cell_type": "code",
   "execution_count": 96,
   "id": "965cc210",
   "metadata": {},
   "outputs": [
    {
     "ename": "TypeError",
     "evalue": "'set' object does not support item assignment",
     "output_type": "error",
     "traceback": [
      "\u001b[1;31m---------------------------------------------------------------------------\u001b[0m",
      "\u001b[1;31mTypeError\u001b[0m                                 Traceback (most recent call last)",
      "Input \u001b[1;32mIn [96]\u001b[0m, in \u001b[0;36m<cell line: 1>\u001b[1;34m()\u001b[0m\n\u001b[1;32m----> 1\u001b[0m days [\u001b[38;5;124m'\u001b[39m\u001b[38;5;124mtuesday\u001b[39m\u001b[38;5;124m'\u001b[39m]\u001b[38;5;241m=\u001b[39m\u001b[38;5;124m'\u001b[39m\u001b[38;5;124msunday\u001b[39m\u001b[38;5;124m'\u001b[39m\n",
      "\u001b[1;31mTypeError\u001b[0m: 'set' object does not support item assignment"
     ]
    }
   ],
   "source": [
    "days['tuesday']='sunday'"
   ]
  },
  {
   "cell_type": "code",
   "execution_count": 97,
   "id": "38b92368",
   "metadata": {},
   "outputs": [],
   "source": [
    "days.remove('monday')"
   ]
  },
  {
   "cell_type": "code",
   "execution_count": 98,
   "id": "de907587",
   "metadata": {},
   "outputs": [
    {
     "data": {
      "text/plain": [
       "{'friday', 'saturday', 'tuesday', 'wednesday'}"
      ]
     },
     "execution_count": 98,
     "metadata": {},
     "output_type": "execute_result"
    }
   ],
   "source": [
    "days"
   ]
  },
  {
   "cell_type": "code",
   "execution_count": 100,
   "id": "793ba0a2",
   "metadata": {},
   "outputs": [
    {
     "data": {
      "text/plain": [
       "'tuesday'"
      ]
     },
     "execution_count": 100,
     "metadata": {},
     "output_type": "execute_result"
    }
   ],
   "source": [
    "days.pop()"
   ]
  },
  {
   "cell_type": "code",
   "execution_count": 101,
   "id": "82466214",
   "metadata": {},
   "outputs": [
    {
     "data": {
      "text/plain": [
       "'friday'"
      ]
     },
     "execution_count": 101,
     "metadata": {},
     "output_type": "execute_result"
    }
   ],
   "source": [
    "days.pop()"
   ]
  },
  {
   "cell_type": "code",
   "execution_count": 103,
   "id": "fa58f98f",
   "metadata": {},
   "outputs": [
    {
     "data": {
      "text/plain": [
       "set()"
      ]
     },
     "execution_count": 103,
     "metadata": {},
     "output_type": "execute_result"
    }
   ],
   "source": [
    "days.clear()\n",
    "days"
   ]
  },
  {
   "cell_type": "code",
   "execution_count": null,
   "id": "2c15bb45",
   "metadata": {},
   "outputs": [],
   "source": []
  }
 ],
 "metadata": {
  "kernelspec": {
   "display_name": "Python 3 (ipykernel)",
   "language": "python",
   "name": "python3"
  },
  "language_info": {
   "codemirror_mode": {
    "name": "ipython",
    "version": 3
   },
   "file_extension": ".py",
   "mimetype": "text/x-python",
   "name": "python",
   "nbconvert_exporter": "python",
   "pygments_lexer": "ipython3",
   "version": "3.9.12"
  }
 },
 "nbformat": 4,
 "nbformat_minor": 5
}
