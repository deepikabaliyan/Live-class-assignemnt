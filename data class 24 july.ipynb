{
 "cells": [
  {
   "cell_type": "markdown",
   "id": "0c593979",
   "metadata": {},
   "source": [
    "string function"
   ]
  },
  {
   "cell_type": "code",
   "execution_count": 13,
   "id": "b7322f10",
   "metadata": {},
   "outputs": [],
   "source": [
    "word=\"computer\""
   ]
  },
  {
   "cell_type": "code",
   "execution_count": 14,
   "id": "63b7a60b",
   "metadata": {},
   "outputs": [
    {
     "data": {
      "text/plain": [
       "'computer'"
      ]
     },
     "execution_count": 14,
     "metadata": {},
     "output_type": "execute_result"
    }
   ],
   "source": [
    "word"
   ]
  },
  {
   "cell_type": "code",
   "execution_count": 15,
   "id": "ea94bbc6",
   "metadata": {},
   "outputs": [
    {
     "data": {
      "text/plain": [
       "'COMPUTER'"
      ]
     },
     "execution_count": 15,
     "metadata": {},
     "output_type": "execute_result"
    }
   ],
   "source": [
    "word.upper()"
   ]
  },
  {
   "cell_type": "code",
   "execution_count": 16,
   "id": "7cfab413",
   "metadata": {},
   "outputs": [
    {
     "data": {
      "text/plain": [
       "False"
      ]
     },
     "execution_count": 16,
     "metadata": {},
     "output_type": "execute_result"
    }
   ],
   "source": [
    "word.isupper()"
   ]
  },
  {
   "cell_type": "code",
   "execution_count": 17,
   "id": "284997ce",
   "metadata": {},
   "outputs": [
    {
     "data": {
      "text/plain": [
       "'computer'"
      ]
     },
     "execution_count": 17,
     "metadata": {},
     "output_type": "execute_result"
    }
   ],
   "source": [
    "word.lower()"
   ]
  },
  {
   "cell_type": "code",
   "execution_count": 18,
   "id": "2e07fc71",
   "metadata": {},
   "outputs": [
    {
     "data": {
      "text/plain": [
       "True"
      ]
     },
     "execution_count": 18,
     "metadata": {},
     "output_type": "execute_result"
    }
   ],
   "source": [
    "word.islower()"
   ]
  },
  {
   "cell_type": "code",
   "execution_count": 19,
   "id": "8437883d",
   "metadata": {},
   "outputs": [],
   "source": [
    "word1=\"mobile\""
   ]
  },
  {
   "cell_type": "code",
   "execution_count": 20,
   "id": "4e969340",
   "metadata": {},
   "outputs": [
    {
     "data": {
      "text/plain": [
       "'Mobile'"
      ]
     },
     "execution_count": 20,
     "metadata": {},
     "output_type": "execute_result"
    }
   ],
   "source": [
    "word1.capitalize()"
   ]
  },
  {
   "cell_type": "code",
   "execution_count": 21,
   "id": "b7caee4d",
   "metadata": {},
   "outputs": [
    {
     "data": {
      "text/plain": [
       "'mobile'"
      ]
     },
     "execution_count": 21,
     "metadata": {},
     "output_type": "execute_result"
    }
   ],
   "source": [
    "word1"
   ]
  },
  {
   "cell_type": "code",
   "execution_count": 22,
   "id": "d571c05e",
   "metadata": {},
   "outputs": [
    {
     "data": {
      "text/plain": [
       "'MOBILE'"
      ]
     },
     "execution_count": 22,
     "metadata": {},
     "output_type": "execute_result"
    }
   ],
   "source": [
    "word1.upper()"
   ]
  },
  {
   "cell_type": "code",
   "execution_count": 23,
   "id": "2bf4fa8b",
   "metadata": {},
   "outputs": [
    {
     "data": {
      "text/plain": [
       "'mobile'"
      ]
     },
     "execution_count": 23,
     "metadata": {},
     "output_type": "execute_result"
    }
   ],
   "source": [
    "word1.lower()"
   ]
  },
  {
   "cell_type": "code",
   "execution_count": 24,
   "id": "cc4c8e14",
   "metadata": {},
   "outputs": [],
   "source": [
    "word2='TeSlA'"
   ]
  },
  {
   "cell_type": "code",
   "execution_count": 25,
   "id": "3703314d",
   "metadata": {},
   "outputs": [
    {
     "data": {
      "text/plain": [
       "'TeSlA'"
      ]
     },
     "execution_count": 25,
     "metadata": {},
     "output_type": "execute_result"
    }
   ],
   "source": [
    "word2"
   ]
  },
  {
   "cell_type": "code",
   "execution_count": 26,
   "id": "e45b3c68",
   "metadata": {},
   "outputs": [
    {
     "data": {
      "text/plain": [
       "'tEsLa'"
      ]
     },
     "execution_count": 26,
     "metadata": {},
     "output_type": "execute_result"
    }
   ],
   "source": [
    "word2.swapcase()"
   ]
  },
  {
   "cell_type": "code",
   "execution_count": 27,
   "id": "f852264f",
   "metadata": {},
   "outputs": [
    {
     "data": {
      "text/plain": [
       "'lenovo'"
      ]
     },
     "execution_count": 27,
     "metadata": {},
     "output_type": "execute_result"
    }
   ],
   "source": [
    "string1='Lenovo'\n",
    "string1.lower()"
   ]
  },
  {
   "cell_type": "code",
   "execution_count": 28,
   "id": "89a228a6",
   "metadata": {},
   "outputs": [
    {
     "data": {
      "text/plain": [
       "'LENOVO'"
      ]
     },
     "execution_count": 28,
     "metadata": {},
     "output_type": "execute_result"
    }
   ],
   "source": [
    "string1.upper()"
   ]
  },
  {
   "cell_type": "code",
   "execution_count": 29,
   "id": "e38faa9f",
   "metadata": {},
   "outputs": [
    {
     "data": {
      "text/plain": [
       "'Lenovo'"
      ]
     },
     "execution_count": 29,
     "metadata": {},
     "output_type": "execute_result"
    }
   ],
   "source": [
    "string1.capitalize()"
   ]
  },
  {
   "cell_type": "code",
   "execution_count": 30,
   "id": "24723d72",
   "metadata": {},
   "outputs": [],
   "source": [
    "string2=\"MaTrIx\""
   ]
  },
  {
   "cell_type": "code",
   "execution_count": 31,
   "id": "116062c8",
   "metadata": {},
   "outputs": [
    {
     "data": {
      "text/plain": [
       "'MaTrIx'"
      ]
     },
     "execution_count": 31,
     "metadata": {},
     "output_type": "execute_result"
    }
   ],
   "source": [
    "string2"
   ]
  },
  {
   "cell_type": "code",
   "execution_count": 32,
   "id": "e48b51d5",
   "metadata": {},
   "outputs": [
    {
     "data": {
      "text/plain": [
       "'mAtRiX'"
      ]
     },
     "execution_count": 32,
     "metadata": {},
     "output_type": "execute_result"
    }
   ],
   "source": [
    "string2.swapcase()"
   ]
  },
  {
   "cell_type": "code",
   "execution_count": 33,
   "id": "9ecbcef3",
   "metadata": {},
   "outputs": [],
   "source": [
    "string3=\"data science\""
   ]
  },
  {
   "cell_type": "code",
   "execution_count": 34,
   "id": "4e78d64e",
   "metadata": {},
   "outputs": [
    {
     "data": {
      "text/plain": [
       "'data science'"
      ]
     },
     "execution_count": 34,
     "metadata": {},
     "output_type": "execute_result"
    }
   ],
   "source": [
    "string3"
   ]
  },
  {
   "cell_type": "code",
   "execution_count": 35,
   "id": "dc8fb442",
   "metadata": {},
   "outputs": [
    {
     "data": {
      "text/plain": [
       "'Data Science'"
      ]
     },
     "execution_count": 35,
     "metadata": {},
     "output_type": "execute_result"
    }
   ],
   "source": [
    "string3.title()"
   ]
  },
  {
   "cell_type": "code",
   "execution_count": 36,
   "id": "a0ed76e3",
   "metadata": {},
   "outputs": [],
   "source": [
    "string4=\"there are many galixes in the universe\""
   ]
  },
  {
   "cell_type": "code",
   "execution_count": 37,
   "id": "cd3dba5b",
   "metadata": {},
   "outputs": [
    {
     "data": {
      "text/plain": [
       "'there are many galixes in the universe'"
      ]
     },
     "execution_count": 37,
     "metadata": {},
     "output_type": "execute_result"
    }
   ],
   "source": [
    "string4"
   ]
  },
  {
   "cell_type": "code",
   "execution_count": 38,
   "id": "b1aeb2af",
   "metadata": {},
   "outputs": [
    {
     "data": {
      "text/plain": [
       "'There Are Many Galixes In The Universe'"
      ]
     },
     "execution_count": 38,
     "metadata": {},
     "output_type": "execute_result"
    }
   ],
   "source": [
    "string4.title()"
   ]
  },
  {
   "cell_type": "code",
   "execution_count": 39,
   "id": "0669ce26",
   "metadata": {},
   "outputs": [
    {
     "data": {
      "text/plain": [
       "'there are many galixes in the universe'"
      ]
     },
     "execution_count": 39,
     "metadata": {},
     "output_type": "execute_result"
    }
   ],
   "source": [
    "string4.lower()"
   ]
  },
  {
   "cell_type": "code",
   "execution_count": 40,
   "id": "a984e6d9",
   "metadata": {},
   "outputs": [
    {
     "data": {
      "text/plain": [
       "'THERE ARE MANY GALIXES IN THE UNIVERSE'"
      ]
     },
     "execution_count": 40,
     "metadata": {},
     "output_type": "execute_result"
    }
   ],
   "source": [
    "string4.upper()"
   ]
  },
  {
   "cell_type": "code",
   "execution_count": 41,
   "id": "c989ee53",
   "metadata": {},
   "outputs": [
    {
     "data": {
      "text/plain": [
       "'There are many galixes in the universe'"
      ]
     },
     "execution_count": 41,
     "metadata": {},
     "output_type": "execute_result"
    }
   ],
   "source": [
    "string4.capitalize()"
   ]
  },
  {
   "cell_type": "code",
   "execution_count": 42,
   "id": "441abfe4",
   "metadata": {},
   "outputs": [
    {
     "data": {
      "text/plain": [
       "['there', 'are', 'many', 'galixes', 'in', 'the', 'universe']"
      ]
     },
     "execution_count": 42,
     "metadata": {},
     "output_type": "execute_result"
    }
   ],
   "source": [
    "string4.split()"
   ]
  },
  {
   "cell_type": "code",
   "execution_count": 43,
   "id": "8962cef5",
   "metadata": {},
   "outputs": [],
   "source": [
    "y=word.upper()"
   ]
  },
  {
   "cell_type": "code",
   "execution_count": 44,
   "id": "7bb05e68",
   "metadata": {},
   "outputs": [
    {
     "data": {
      "text/plain": [
       "'COMPUTER'"
      ]
     },
     "execution_count": 44,
     "metadata": {},
     "output_type": "execute_result"
    }
   ],
   "source": [
    "y"
   ]
  },
  {
   "cell_type": "code",
   "execution_count": 45,
   "id": "71a485b0",
   "metadata": {},
   "outputs": [
    {
     "data": {
      "text/plain": [
       "True"
      ]
     },
     "execution_count": 45,
     "metadata": {},
     "output_type": "execute_result"
    }
   ],
   "source": [
    "y.isupper()"
   ]
  },
  {
   "cell_type": "code",
   "execution_count": 46,
   "id": "0d216e31",
   "metadata": {},
   "outputs": [
    {
     "data": {
      "text/plain": [
       "False"
      ]
     },
     "execution_count": 46,
     "metadata": {},
     "output_type": "execute_result"
    }
   ],
   "source": [
    "y.islower()"
   ]
  },
  {
   "cell_type": "code",
   "execution_count": 48,
   "id": "986e3db9",
   "metadata": {},
   "outputs": [
    {
     "data": {
      "text/plain": [
       "'mobile'"
      ]
     },
     "execution_count": 48,
     "metadata": {},
     "output_type": "execute_result"
    }
   ],
   "source": [
    "word1"
   ]
  },
  {
   "cell_type": "code",
   "execution_count": 49,
   "id": "00956e91",
   "metadata": {},
   "outputs": [
    {
     "data": {
      "text/plain": [
       "False"
      ]
     },
     "execution_count": 49,
     "metadata": {},
     "output_type": "execute_result"
    }
   ],
   "source": [
    "word.isupper()"
   ]
  },
  {
   "cell_type": "code",
   "execution_count": 50,
   "id": "8f1d3c27",
   "metadata": {},
   "outputs": [
    {
     "data": {
      "text/plain": [
       "True"
      ]
     },
     "execution_count": 50,
     "metadata": {},
     "output_type": "execute_result"
    }
   ],
   "source": [
    "word.islower()"
   ]
  },
  {
   "cell_type": "code",
   "execution_count": 51,
   "id": "80d535c8",
   "metadata": {},
   "outputs": [],
   "source": [
    "test1=\"1234\""
   ]
  },
  {
   "cell_type": "code",
   "execution_count": 52,
   "id": "bd0f7742",
   "metadata": {},
   "outputs": [
    {
     "data": {
      "text/plain": [
       "'1234'"
      ]
     },
     "execution_count": 52,
     "metadata": {},
     "output_type": "execute_result"
    }
   ],
   "source": [
    "test1"
   ]
  },
  {
   "cell_type": "code",
   "execution_count": 54,
   "id": "ee19fced",
   "metadata": {},
   "outputs": [
    {
     "data": {
      "text/plain": [
       "False"
      ]
     },
     "execution_count": 54,
     "metadata": {},
     "output_type": "execute_result"
    }
   ],
   "source": [
    "test1.isalpha()"
   ]
  },
  {
   "cell_type": "code",
   "execution_count": 56,
   "id": "4caab650",
   "metadata": {},
   "outputs": [
    {
     "data": {
      "text/plain": [
       "True"
      ]
     },
     "execution_count": 56,
     "metadata": {},
     "output_type": "execute_result"
    }
   ],
   "source": [
    "test1.isdigit()"
   ]
  },
  {
   "cell_type": "code",
   "execution_count": 58,
   "id": "928ee4ae",
   "metadata": {},
   "outputs": [],
   "source": [
    "word5='elon musk is a ceo of tesla'"
   ]
  },
  {
   "cell_type": "code",
   "execution_count": 59,
   "id": "cc076de6",
   "metadata": {},
   "outputs": [
    {
     "data": {
      "text/plain": [
       "'elon musk is a ceo of tesla'"
      ]
     },
     "execution_count": 59,
     "metadata": {},
     "output_type": "execute_result"
    }
   ],
   "source": [
    "word5"
   ]
  },
  {
   "cell_type": "code",
   "execution_count": 60,
   "id": "ec45bb79",
   "metadata": {},
   "outputs": [
    {
     "data": {
      "text/plain": [
       "5"
      ]
     },
     "execution_count": 60,
     "metadata": {},
     "output_type": "execute_result"
    }
   ],
   "source": [
    "word5.find(\"musk\")"
   ]
  },
  {
   "cell_type": "code",
   "execution_count": 64,
   "id": "77abc9ea",
   "metadata": {},
   "outputs": [
    {
     "data": {
      "text/plain": [
       "22"
      ]
     },
     "execution_count": 64,
     "metadata": {},
     "output_type": "execute_result"
    }
   ],
   "source": [
    "word5.find('tesla')"
   ]
  },
  {
   "cell_type": "code",
   "execution_count": 69,
   "id": "5f7496af",
   "metadata": {},
   "outputs": [
    {
     "data": {
      "text/plain": [
       "10"
      ]
     },
     "execution_count": 69,
     "metadata": {},
     "output_type": "execute_result"
    }
   ],
   "source": [
    "word5.find(\"is\",6,20)"
   ]
  },
  {
   "cell_type": "code",
   "execution_count": 70,
   "id": "95c9ba7a",
   "metadata": {},
   "outputs": [
    {
     "data": {
      "text/plain": [
       "15"
      ]
     },
     "execution_count": 70,
     "metadata": {},
     "output_type": "execute_result"
    }
   ],
   "source": [
    "word5.find('ceo')"
   ]
  },
  {
   "cell_type": "code",
   "execution_count": 71,
   "id": "11447193",
   "metadata": {},
   "outputs": [
    {
     "data": {
      "text/plain": [
       "'there are many galixes in the universe'"
      ]
     },
     "execution_count": 71,
     "metadata": {},
     "output_type": "execute_result"
    }
   ],
   "source": [
    "string4"
   ]
  },
  {
   "cell_type": "code",
   "execution_count": 73,
   "id": "3fafd39a",
   "metadata": {},
   "outputs": [
    {
     "data": {
      "text/plain": [
       "10"
      ]
     },
     "execution_count": 73,
     "metadata": {},
     "output_type": "execute_result"
    }
   ],
   "source": [
    "string4.find('many',8,25)"
   ]
  },
  {
   "cell_type": "code",
   "execution_count": 74,
   "id": "2ca2aa14",
   "metadata": {},
   "outputs": [],
   "source": [
    "f=\"8967\""
   ]
  },
  {
   "cell_type": "code",
   "execution_count": 75,
   "id": "63df74a1",
   "metadata": {},
   "outputs": [
    {
     "data": {
      "text/plain": [
       "'8967'"
      ]
     },
     "execution_count": 75,
     "metadata": {},
     "output_type": "execute_result"
    }
   ],
   "source": [
    "f"
   ]
  },
  {
   "cell_type": "code",
   "execution_count": 76,
   "id": "cf3025d2",
   "metadata": {},
   "outputs": [
    {
     "data": {
      "text/plain": [
       "True"
      ]
     },
     "execution_count": 76,
     "metadata": {},
     "output_type": "execute_result"
    }
   ],
   "source": [
    "f.isdigit()"
   ]
  },
  {
   "cell_type": "code",
   "execution_count": 77,
   "id": "ba3ec7c5",
   "metadata": {},
   "outputs": [
    {
     "data": {
      "text/plain": [
       "3"
      ]
     },
     "execution_count": 77,
     "metadata": {},
     "output_type": "execute_result"
    }
   ],
   "source": [
    "string4.count(\"a\")"
   ]
  },
  {
   "cell_type": "code",
   "execution_count": 78,
   "id": "c32c9d53",
   "metadata": {},
   "outputs": [
    {
     "data": {
      "text/plain": [
       "'there are many planets in the universe'"
      ]
     },
     "execution_count": 78,
     "metadata": {},
     "output_type": "execute_result"
    }
   ],
   "source": [
    "string4.replace('galixes','planets')"
   ]
  },
  {
   "cell_type": "code",
   "execution_count": 79,
   "id": "35577371",
   "metadata": {},
   "outputs": [
    {
     "data": {
      "text/plain": [
       "38"
      ]
     },
     "execution_count": 79,
     "metadata": {},
     "output_type": "execute_result"
    }
   ],
   "source": [
    "len(string4)"
   ]
  },
  {
   "cell_type": "code",
   "execution_count": 82,
   "id": "a4e4e692",
   "metadata": {},
   "outputs": [],
   "source": [
    "p=\"data science is growing field base on data\""
   ]
  },
  {
   "cell_type": "code",
   "execution_count": 83,
   "id": "9046516a",
   "metadata": {},
   "outputs": [
    {
     "data": {
      "text/plain": [
       "'data science is growing field base on data'"
      ]
     },
     "execution_count": 83,
     "metadata": {},
     "output_type": "execute_result"
    }
   ],
   "source": [
    "p"
   ]
  },
  {
   "cell_type": "code",
   "execution_count": 84,
   "id": "718b6a57",
   "metadata": {},
   "outputs": [
    {
     "data": {
      "text/plain": [
       "'analytics science is growing field base on analytics'"
      ]
     },
     "execution_count": 84,
     "metadata": {},
     "output_type": "execute_result"
    }
   ],
   "source": [
    "p.replace('data','analytics')"
   ]
  },
  {
   "cell_type": "markdown",
   "id": "63cac45b",
   "metadata": {},
   "source": [
    "the join()string method returns a string by joining all the elements of an itrable (list,string,tuple),seprated by a string seprator"
   ]
  },
  {
   "cell_type": "code",
   "execution_count": 85,
   "id": "dad1fdde",
   "metadata": {},
   "outputs": [],
   "source": [
    "text=['nasa','bulinding','hotel','project','in','mars',]"
   ]
  },
  {
   "cell_type": "code",
   "execution_count": 88,
   "id": "95680194",
   "metadata": {},
   "outputs": [
    {
     "data": {
      "text/plain": [
       "'nasa bulinding hotel project in mars'"
      ]
     },
     "execution_count": 88,
     "metadata": {},
     "output_type": "execute_result"
    }
   ],
   "source": [
    "#join elements of text with space\n",
    "' '.join(text)"
   ]
  },
  {
   "cell_type": "code",
   "execution_count": 89,
   "id": "ba603358",
   "metadata": {},
   "outputs": [
    {
     "data": {
      "text/plain": [
       "'nasabulindinghotelprojectinmars'"
      ]
     },
     "execution_count": 89,
     "metadata": {},
     "output_type": "execute_result"
    }
   ],
   "source": [
    "''.join(text)"
   ]
  },
  {
   "cell_type": "code",
   "execution_count": 92,
   "id": "4c3c84db",
   "metadata": {},
   "outputs": [
    {
     "name": "stdout",
     "output_type": "stream",
     "text": [
      "the two string are matching\n"
     ]
    }
   ],
   "source": [
    "#casefold ignore the matching of word by lowercase uppercase\n",
    "string1='tesla'\n",
    "string2='tesla'\n",
    "\n",
    "if string1.casefold()==string2.casefold():\n",
    "    print('the two string are matching')\n",
    "else:\n",
    "    print('the two stringa are not matching')"
   ]
  },
  {
   "cell_type": "code",
   "execution_count": 2,
   "id": "6492b04e",
   "metadata": {},
   "outputs": [
    {
     "name": "stdout",
     "output_type": "stream",
     "text": [
      "NEWHorizon\n",
      "NEWHorizon\n"
     ]
    }
   ],
   "source": [
    "#string cancatenation\n",
    "\n",
    "str1='NEW'\n",
    "str2='Horizon'\n",
    "print(str1+str2)\n",
    "print(str1+ ''+str2)"
   ]
  },
  {
   "cell_type": "code",
   "execution_count": 3,
   "id": "85faae53",
   "metadata": {},
   "outputs": [
    {
     "name": "stdout",
     "output_type": "stream",
     "text": [
      "hello, john!\n"
     ]
    }
   ],
   "source": [
    "#this prints out \"hello, john!\"\n",
    "name=\"john\"\n",
    "print(\"hello, %s!\" % name)\n"
   ]
  },
  {
   "cell_type": "code",
   "execution_count": 4,
   "id": "c6680269",
   "metadata": {},
   "outputs": [
    {
     "name": "stdout",
     "output_type": "stream",
     "text": [
      "hello john !\n"
     ]
    }
   ],
   "source": [
    "print(\"hello\",name,\"!\")"
   ]
  },
  {
   "cell_type": "code",
   "execution_count": 11,
   "id": "3602ff54",
   "metadata": {},
   "outputs": [
    {
     "name": "stdout",
     "output_type": "stream",
     "text": [
      "john is 23 years old taking slary 6889.564000\n",
      "salary =6889.56\n"
     ]
    }
   ],
   "source": [
    "#this prints out \"john is 23 years old.\"\n",
    "name=\"john\"\n",
    "age=23\n",
    "salary=6889.564\n",
    "print(\"%s is %d years old taking slary %f\" % (name, age,salary))\n",
    "\n",
    "print(\"salary =%0.2f\" %(salary))"
   ]
  },
  {
   "cell_type": "code",
   "execution_count": 14,
   "id": "1509aa61",
   "metadata": {},
   "outputs": [
    {
     "name": "stdout",
     "output_type": "stream",
     "text": [
      "john is 23 years old taking slary 6889.564000\n",
      "salary =6889.564\n"
     ]
    }
   ],
   "source": [
    "#this prints out \"john is 23 years old.\"\n",
    "name=\"john\"\n",
    "age=23\n",
    "salary=6889.564\n",
    "print(\"%s is %d years old taking slary %f\" % (name, age,salary))\n",
    "\n",
    "print(\"salary =%0.3f\" %(salary))"
   ]
  },
  {
   "cell_type": "code",
   "execution_count": 13,
   "id": "9c8c39bb",
   "metadata": {},
   "outputs": [
    {
     "name": "stdout",
     "output_type": "stream",
     "text": [
      "i like to eat mango,orange,and grapes\n"
     ]
    }
   ],
   "source": [
    "fruit1=\"mango\"\n",
    "fruit2=\"orange\"\n",
    "fruit3=\"grapes\"\n",
    "print(\"i like to eat %s,%s,and %s\" % (fruit1,fruit2,fruit3))"
   ]
  },
  {
   "cell_type": "markdown",
   "id": "a4e116b7",
   "metadata": {},
   "source": [
    "string.formate function"
   ]
  },
  {
   "cell_type": "code",
   "execution_count": 17,
   "id": "fa5e8a84",
   "metadata": {},
   "outputs": [
    {
     "name": "stdout",
     "output_type": "stream",
     "text": [
      "people generally take cook with pizza\n"
     ]
    }
   ],
   "source": [
    "print(\"people generally take {} with {}\" .format('cook','pizza'))"
   ]
  },
  {
   "cell_type": "code",
   "execution_count": 20,
   "id": "a1054a13",
   "metadata": {},
   "outputs": [
    {
     "name": "stdout",
     "output_type": "stream",
     "text": [
      "people generally take cook with pizza\n"
     ]
    }
   ],
   "source": [
    "print(\"people generally take {0} with {1}\" .format('cook','pizza'))"
   ]
  },
  {
   "cell_type": "code",
   "execution_count": 19,
   "id": "f5bfb3a5",
   "metadata": {},
   "outputs": [
    {
     "name": "stdout",
     "output_type": "stream",
     "text": [
      "people generally take pizza with cook\n"
     ]
    }
   ],
   "source": [
    "print(\"people generally take {1} with {0}\" .format('cook','pizza'))"
   ]
  },
  {
   "cell_type": "code",
   "execution_count": null,
   "id": "ee27eb8e",
   "metadata": {},
   "outputs": [],
   "source": []
  }
 ],
 "metadata": {
  "kernelspec": {
   "display_name": "Python 3 (ipykernel)",
   "language": "python",
   "name": "python3"
  },
  "language_info": {
   "codemirror_mode": {
    "name": "ipython",
    "version": 3
   },
   "file_extension": ".py",
   "mimetype": "text/x-python",
   "name": "python",
   "nbconvert_exporter": "python",
   "pygments_lexer": "ipython3",
   "version": "3.9.12"
  }
 },
 "nbformat": 4,
 "nbformat_minor": 5
}
