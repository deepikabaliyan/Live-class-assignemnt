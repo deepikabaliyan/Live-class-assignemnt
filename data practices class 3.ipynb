{
 "cells": [
  {
   "cell_type": "markdown",
   "id": "5c5b0921",
   "metadata": {},
   "source": [
    "# Data structure"
   ]
  },
  {
   "cell_type": "markdown",
   "id": "cfefbcca",
   "metadata": {},
   "source": [
    "list"
   ]
  },
  {
   "cell_type": "code",
   "execution_count": 24,
   "id": "76def11b",
   "metadata": {},
   "outputs": [],
   "source": [
    "list1=[]"
   ]
  },
  {
   "cell_type": "code",
   "execution_count": 25,
   "id": "980b22a7",
   "metadata": {},
   "outputs": [
    {
     "data": {
      "text/plain": [
       "[]"
      ]
     },
     "execution_count": 25,
     "metadata": {},
     "output_type": "execute_result"
    }
   ],
   "source": [
    "list1"
   ]
  },
  {
   "cell_type": "code",
   "execution_count": 26,
   "id": "f4351c1c",
   "metadata": {},
   "outputs": [],
   "source": [
    "list2=[1,2,3,4,5,6]"
   ]
  },
  {
   "cell_type": "code",
   "execution_count": 29,
   "id": "c144a617",
   "metadata": {},
   "outputs": [
    {
     "data": {
      "text/plain": [
       "[1, 2, 3, 4, 5, 6]"
      ]
     },
     "execution_count": 29,
     "metadata": {},
     "output_type": "execute_result"
    }
   ],
   "source": [
    "list2"
   ]
  },
  {
   "cell_type": "code",
   "execution_count": 32,
   "id": "58a30d28",
   "metadata": {},
   "outputs": [],
   "source": [
    "list3=[11,12,13,14]"
   ]
  },
  {
   "cell_type": "code",
   "execution_count": 28,
   "id": "b78fd2f5",
   "metadata": {},
   "outputs": [
    {
     "data": {
      "text/plain": [
       "[11, 12, 13, 14]"
      ]
     },
     "execution_count": 28,
     "metadata": {},
     "output_type": "execute_result"
    }
   ],
   "source": [
    "list3"
   ]
  },
  {
   "cell_type": "code",
   "execution_count": 33,
   "id": "29c867e9",
   "metadata": {},
   "outputs": [],
   "source": [
    "list4=[100,200,300,400,500]"
   ]
  },
  {
   "cell_type": "code",
   "execution_count": 19,
   "id": "51488814",
   "metadata": {},
   "outputs": [
    {
     "data": {
      "text/plain": [
       "[100, 200, 300, 400, 500]"
      ]
     },
     "execution_count": 19,
     "metadata": {},
     "output_type": "execute_result"
    }
   ],
   "source": [
    "list4"
   ]
  },
  {
   "cell_type": "code",
   "execution_count": 20,
   "id": "2fd88f28",
   "metadata": {},
   "outputs": [
    {
     "data": {
      "text/plain": [
       "5"
      ]
     },
     "execution_count": 20,
     "metadata": {},
     "output_type": "execute_result"
    }
   ],
   "source": [
    "len(list4)"
   ]
  },
  {
   "cell_type": "code",
   "execution_count": 16,
   "id": "5d616073",
   "metadata": {},
   "outputs": [],
   "source": [
    "list5=[5.3,4.2,5.9,6.8]"
   ]
  },
  {
   "cell_type": "code",
   "execution_count": 16,
   "id": "f8317a09",
   "metadata": {},
   "outputs": [
    {
     "data": {
      "text/plain": [
       "[5.3, 4.2, 5.9, 6.8]"
      ]
     },
     "execution_count": 16,
     "metadata": {},
     "output_type": "execute_result"
    }
   ],
   "source": [
    "list5"
   ]
  },
  {
   "cell_type": "code",
   "execution_count": 34,
   "id": "7138c75f",
   "metadata": {},
   "outputs": [
    {
     "data": {
      "text/plain": [
       "4"
      ]
     },
     "execution_count": 34,
     "metadata": {},
     "output_type": "execute_result"
    }
   ],
   "source": [
    "len(list5)"
   ]
  },
  {
   "cell_type": "code",
   "execution_count": 35,
   "id": "b6b3d122",
   "metadata": {},
   "outputs": [],
   "source": [
    "list6=['A','B','C','D']"
   ]
  },
  {
   "cell_type": "code",
   "execution_count": 20,
   "id": "d32b9f8b",
   "metadata": {},
   "outputs": [
    {
     "data": {
      "text/plain": [
       "['A', 'B', 'C', 'D']"
      ]
     },
     "execution_count": 20,
     "metadata": {},
     "output_type": "execute_result"
    }
   ],
   "source": [
    "list6"
   ]
  },
  {
   "cell_type": "code",
   "execution_count": 47,
   "id": "8ec1b51d",
   "metadata": {},
   "outputs": [],
   "source": [
    "list7=[\"burger\",\"pizza\",\"icecreame\"]"
   ]
  },
  {
   "cell_type": "code",
   "execution_count": 48,
   "id": "bbb800ec",
   "metadata": {},
   "outputs": [
    {
     "data": {
      "text/plain": [
       "['burger', 'pizza', 'icecreame']"
      ]
     },
     "execution_count": 48,
     "metadata": {},
     "output_type": "execute_result"
    }
   ],
   "source": [
    "list7"
   ]
  },
  {
   "cell_type": "code",
   "execution_count": 49,
   "id": "30a70490",
   "metadata": {},
   "outputs": [
    {
     "data": {
      "text/plain": [
       "3"
      ]
     },
     "execution_count": 49,
     "metadata": {},
     "output_type": "execute_result"
    }
   ],
   "source": [
    "len(list7)"
   ]
  },
  {
   "cell_type": "code",
   "execution_count": 50,
   "id": "18a6513a",
   "metadata": {},
   "outputs": [],
   "source": [
    "list8=[ 55,34.23,'matrix','b',55,True]"
   ]
  },
  {
   "cell_type": "code",
   "execution_count": 20,
   "id": "cc321e94",
   "metadata": {},
   "outputs": [
    {
     "data": {
      "text/plain": [
       "[55, 34.23, 'matrix', 'b', 55]"
      ]
     },
     "execution_count": 20,
     "metadata": {},
     "output_type": "execute_result"
    }
   ],
   "source": [
    "list8"
   ]
  },
  {
   "cell_type": "code",
   "execution_count": 43,
   "id": "f04f026e",
   "metadata": {},
   "outputs": [
    {
     "data": {
      "text/plain": [
       "6"
      ]
     },
     "execution_count": 43,
     "metadata": {},
     "output_type": "execute_result"
    }
   ],
   "source": [
    "len(list8)"
   ]
  },
  {
   "cell_type": "markdown",
   "id": "6158af63",
   "metadata": {},
   "source": [
    " Indexing and Slicing in list"
   ]
  },
  {
   "cell_type": "code",
   "execution_count": 37,
   "id": "4743aa48",
   "metadata": {},
   "outputs": [],
   "source": [
    "list3=[11,12,13,14,15,16]"
   ]
  },
  {
   "cell_type": "code",
   "execution_count": 38,
   "id": "98403674",
   "metadata": {},
   "outputs": [
    {
     "data": {
      "text/plain": [
       "[11, 12, 13, 14, 15, 16]"
      ]
     },
     "execution_count": 38,
     "metadata": {},
     "output_type": "execute_result"
    }
   ],
   "source": [
    "list3"
   ]
  },
  {
   "cell_type": "code",
   "execution_count": 40,
   "id": "2e179e5a",
   "metadata": {},
   "outputs": [
    {
     "data": {
      "text/plain": [
       "11"
      ]
     },
     "execution_count": 40,
     "metadata": {},
     "output_type": "execute_result"
    }
   ],
   "source": [
    "list3[0]"
   ]
  },
  {
   "cell_type": "code",
   "execution_count": 41,
   "id": "6e197c34",
   "metadata": {},
   "outputs": [
    {
     "data": {
      "text/plain": [
       "12"
      ]
     },
     "execution_count": 41,
     "metadata": {},
     "output_type": "execute_result"
    }
   ],
   "source": [
    "list3[1]"
   ]
  },
  {
   "cell_type": "code",
   "execution_count": 61,
   "id": "2181edd0",
   "metadata": {},
   "outputs": [
    {
     "data": {
      "text/plain": [
       "13"
      ]
     },
     "execution_count": 61,
     "metadata": {},
     "output_type": "execute_result"
    }
   ],
   "source": [
    "list3[2]"
   ]
  },
  {
   "cell_type": "code",
   "execution_count": 73,
   "id": "e7a2bad2",
   "metadata": {},
   "outputs": [],
   "source": [
    "list6=['A','B','C','D']"
   ]
  },
  {
   "cell_type": "code",
   "execution_count": 74,
   "id": "978fb1a3",
   "metadata": {},
   "outputs": [
    {
     "data": {
      "text/plain": [
       "['A', 'B', 'C', 'D']"
      ]
     },
     "execution_count": 74,
     "metadata": {},
     "output_type": "execute_result"
    }
   ],
   "source": [
    "list6"
   ]
  },
  {
   "cell_type": "code",
   "execution_count": 76,
   "id": "8ca189a8",
   "metadata": {},
   "outputs": [
    {
     "data": {
      "text/plain": [
       "'A'"
      ]
     },
     "execution_count": 76,
     "metadata": {},
     "output_type": "execute_result"
    }
   ],
   "source": [
    "list6[0]"
   ]
  },
  {
   "cell_type": "code",
   "execution_count": 78,
   "id": "727fed2c",
   "metadata": {},
   "outputs": [
    {
     "data": {
      "text/plain": [
       "'B'"
      ]
     },
     "execution_count": 78,
     "metadata": {},
     "output_type": "execute_result"
    }
   ],
   "source": [
    "list6[1]"
   ]
  },
  {
   "cell_type": "code",
   "execution_count": 79,
   "id": "9372137b",
   "metadata": {},
   "outputs": [
    {
     "data": {
      "text/plain": [
       "'C'"
      ]
     },
     "execution_count": 79,
     "metadata": {},
     "output_type": "execute_result"
    }
   ],
   "source": [
    "list6[2]"
   ]
  },
  {
   "cell_type": "code",
   "execution_count": 81,
   "id": "369ecf3b",
   "metadata": {},
   "outputs": [],
   "source": [
    "list7=[\"burger\",\"pizza\",\"icecreame\"]"
   ]
  },
  {
   "cell_type": "code",
   "execution_count": 82,
   "id": "318605ae",
   "metadata": {},
   "outputs": [
    {
     "data": {
      "text/plain": [
       "['burger', 'pizza', 'icecreame']"
      ]
     },
     "execution_count": 82,
     "metadata": {},
     "output_type": "execute_result"
    }
   ],
   "source": [
    "list7"
   ]
  },
  {
   "cell_type": "code",
   "execution_count": 83,
   "id": "8e34c10b",
   "metadata": {},
   "outputs": [
    {
     "data": {
      "text/plain": [
       "'burger'"
      ]
     },
     "execution_count": 83,
     "metadata": {},
     "output_type": "execute_result"
    }
   ],
   "source": [
    "list7[0]"
   ]
  },
  {
   "cell_type": "code",
   "execution_count": 84,
   "id": "af7649b1",
   "metadata": {},
   "outputs": [
    {
     "data": {
      "text/plain": [
       "'pizza'"
      ]
     },
     "execution_count": 84,
     "metadata": {},
     "output_type": "execute_result"
    }
   ],
   "source": [
    "list7[1]"
   ]
  },
  {
   "cell_type": "code",
   "execution_count": 87,
   "id": "a1f01d17",
   "metadata": {},
   "outputs": [
    {
     "data": {
      "text/plain": [
       "'icecreame'"
      ]
     },
     "execution_count": 87,
     "metadata": {},
     "output_type": "execute_result"
    }
   ],
   "source": [
    "list7[2]"
   ]
  },
  {
   "cell_type": "code",
   "execution_count": 4,
   "id": "83881a0a",
   "metadata": {},
   "outputs": [],
   "source": [
    "list8=[ 55,34.23,'matrix','b',55,True]"
   ]
  },
  {
   "cell_type": "code",
   "execution_count": 5,
   "id": "dd51621f",
   "metadata": {},
   "outputs": [
    {
     "data": {
      "text/plain": [
       "[55, 34.23, 'matrix', 'b', 55, True]"
      ]
     },
     "execution_count": 5,
     "metadata": {},
     "output_type": "execute_result"
    }
   ],
   "source": [
    "list8"
   ]
  },
  {
   "cell_type": "code",
   "execution_count": 7,
   "id": "ff48e3a8",
   "metadata": {},
   "outputs": [
    {
     "data": {
      "text/plain": [
       "55"
      ]
     },
     "execution_count": 7,
     "metadata": {},
     "output_type": "execute_result"
    }
   ],
   "source": [
    "list8[0]"
   ]
  },
  {
   "cell_type": "code",
   "execution_count": 8,
   "id": "afe85c3b",
   "metadata": {},
   "outputs": [
    {
     "data": {
      "text/plain": [
       "34.23"
      ]
     },
     "execution_count": 8,
     "metadata": {},
     "output_type": "execute_result"
    }
   ],
   "source": [
    "list8[1]"
   ]
  },
  {
   "cell_type": "code",
   "execution_count": 10,
   "id": "5ca26ab7",
   "metadata": {},
   "outputs": [
    {
     "data": {
      "text/plain": [
       "'matrix'"
      ]
     },
     "execution_count": 10,
     "metadata": {},
     "output_type": "execute_result"
    }
   ],
   "source": [
    "list8[2]"
   ]
  },
  {
   "cell_type": "code",
   "execution_count": 11,
   "id": "b932b23a",
   "metadata": {},
   "outputs": [
    {
     "data": {
      "text/plain": [
       "'b'"
      ]
     },
     "execution_count": 11,
     "metadata": {},
     "output_type": "execute_result"
    }
   ],
   "source": [
    "list8[3]"
   ]
  },
  {
   "cell_type": "code",
   "execution_count": 12,
   "id": "0e8fb5f3",
   "metadata": {},
   "outputs": [
    {
     "data": {
      "text/plain": [
       "55"
      ]
     },
     "execution_count": 12,
     "metadata": {},
     "output_type": "execute_result"
    }
   ],
   "source": [
    "list8[4]"
   ]
  },
  {
   "cell_type": "code",
   "execution_count": 13,
   "id": "42e31e10",
   "metadata": {},
   "outputs": [
    {
     "data": {
      "text/plain": [
       "True"
      ]
     },
     "execution_count": 13,
     "metadata": {},
     "output_type": "execute_result"
    }
   ],
   "source": [
    "list8[5]"
   ]
  },
  {
   "cell_type": "markdown",
   "id": "785d0448",
   "metadata": {},
   "source": [
    "slicing"
   ]
  },
  {
   "cell_type": "markdown",
   "id": "5d03cb1b",
   "metadata": {},
   "source": [
    "listname[startindex:endindex]"
   ]
  },
  {
   "cell_type": "code",
   "execution_count": 18,
   "id": "06a0f92e",
   "metadata": {},
   "outputs": [
    {
     "data": {
      "text/plain": [
       "[100, 200, 300, 400, 500]"
      ]
     },
     "execution_count": 18,
     "metadata": {},
     "output_type": "execute_result"
    }
   ],
   "source": [
    "list4"
   ]
  },
  {
   "cell_type": "code",
   "execution_count": 19,
   "id": "a1ce732f",
   "metadata": {},
   "outputs": [
    {
     "data": {
      "text/plain": [
       "[100]"
      ]
     },
     "execution_count": 19,
     "metadata": {},
     "output_type": "execute_result"
    }
   ],
   "source": [
    "list4[0:1]"
   ]
  },
  {
   "cell_type": "code",
   "execution_count": 20,
   "id": "241cd0c2",
   "metadata": {},
   "outputs": [
    {
     "data": {
      "text/plain": [
       "[100, 200, 300]"
      ]
     },
     "execution_count": 20,
     "metadata": {},
     "output_type": "execute_result"
    }
   ],
   "source": [
    "list4[0:3]"
   ]
  },
  {
   "cell_type": "code",
   "execution_count": 21,
   "id": "559dd0b5",
   "metadata": {},
   "outputs": [
    {
     "data": {
      "text/plain": [
       "[100, 200]"
      ]
     },
     "execution_count": 21,
     "metadata": {},
     "output_type": "execute_result"
    }
   ],
   "source": [
    "list4[0:2]"
   ]
  },
  {
   "cell_type": "code",
   "execution_count": 22,
   "id": "cd48557c",
   "metadata": {},
   "outputs": [
    {
     "data": {
      "text/plain": [
       "[300, 400]"
      ]
     },
     "execution_count": 22,
     "metadata": {},
     "output_type": "execute_result"
    }
   ],
   "source": [
    "list4[2:4]"
   ]
  },
  {
   "cell_type": "code",
   "execution_count": 23,
   "id": "d0bab9ad",
   "metadata": {},
   "outputs": [
    {
     "data": {
      "text/plain": [
       "[100, 200, 300, 400]"
      ]
     },
     "execution_count": 23,
     "metadata": {},
     "output_type": "execute_result"
    }
   ],
   "source": [
    "list4[0:4]"
   ]
  },
  {
   "cell_type": "code",
   "execution_count": 24,
   "id": "43462390",
   "metadata": {},
   "outputs": [
    {
     "data": {
      "text/plain": [
       "[100, 200, 300, 400, 500]"
      ]
     },
     "execution_count": 24,
     "metadata": {},
     "output_type": "execute_result"
    }
   ],
   "source": [
    "list4[:5]"
   ]
  },
  {
   "cell_type": "code",
   "execution_count": 25,
   "id": "14f80328",
   "metadata": {},
   "outputs": [
    {
     "data": {
      "text/plain": [
       "[55, 34.23, 'matrix', 'b', 55, True]"
      ]
     },
     "execution_count": 25,
     "metadata": {},
     "output_type": "execute_result"
    }
   ],
   "source": [
    "list8"
   ]
  },
  {
   "cell_type": "code",
   "execution_count": 26,
   "id": "8404f61f",
   "metadata": {},
   "outputs": [
    {
     "data": {
      "text/plain": [
       "[55, 34.23, 'matrix', 'b']"
      ]
     },
     "execution_count": 26,
     "metadata": {},
     "output_type": "execute_result"
    }
   ],
   "source": [
    "list8[0:4]"
   ]
  },
  {
   "cell_type": "code",
   "execution_count": 27,
   "id": "48c8cea3",
   "metadata": {},
   "outputs": [
    {
     "data": {
      "text/plain": [
       "[55, 34.23, 'matrix', 'b', 55, True]"
      ]
     },
     "execution_count": 27,
     "metadata": {},
     "output_type": "execute_result"
    }
   ],
   "source": [
    "list8[:6]"
   ]
  },
  {
   "cell_type": "code",
   "execution_count": 28,
   "id": "44ae0249",
   "metadata": {},
   "outputs": [
    {
     "data": {
      "text/plain": [
       "['b', 55, True]"
      ]
     },
     "execution_count": 28,
     "metadata": {},
     "output_type": "execute_result"
    }
   ],
   "source": [
    "list8[3:6]"
   ]
  },
  {
   "cell_type": "code",
   "execution_count": 29,
   "id": "26f5ec94",
   "metadata": {},
   "outputs": [
    {
     "data": {
      "text/plain": [
       "[55, 34.23, 'matrix', 'b', 55, True]"
      ]
     },
     "execution_count": 29,
     "metadata": {},
     "output_type": "execute_result"
    }
   ],
   "source": [
    "list8[0:]"
   ]
  },
  {
   "cell_type": "code",
   "execution_count": 31,
   "id": "8971bf70",
   "metadata": {},
   "outputs": [
    {
     "data": {
      "text/plain": [
       "[55, 34.23, 'matrix', 'b', 55]"
      ]
     },
     "execution_count": 31,
     "metadata": {},
     "output_type": "execute_result"
    }
   ],
   "source": [
    "list8[:5]"
   ]
  },
  {
   "cell_type": "code",
   "execution_count": 32,
   "id": "99b59f4b",
   "metadata": {},
   "outputs": [
    {
     "data": {
      "text/plain": [
       "[True]"
      ]
     },
     "execution_count": 32,
     "metadata": {},
     "output_type": "execute_result"
    }
   ],
   "source": [
    "list8[5:]"
   ]
  },
  {
   "cell_type": "code",
   "execution_count": 35,
   "id": "e5b3045f",
   "metadata": {},
   "outputs": [
    {
     "data": {
      "text/plain": [
       "[55, True]"
      ]
     },
     "execution_count": 35,
     "metadata": {},
     "output_type": "execute_result"
    }
   ],
   "source": [
    "list8[4:]"
   ]
  },
  {
   "cell_type": "code",
   "execution_count": 40,
   "id": "8c07764d",
   "metadata": {},
   "outputs": [
    {
     "data": {
      "text/plain": [
       "[23, 43, 67]"
      ]
     },
     "execution_count": 40,
     "metadata": {},
     "output_type": "execute_result"
    }
   ],
   "source": [
    "list13=[23,43,67,87,24,44]\n",
    "\n",
    "list13[0:3]"
   ]
  },
  {
   "cell_type": "code",
   "execution_count": 43,
   "id": "bc21f877",
   "metadata": {},
   "outputs": [
    {
     "data": {
      "text/plain": [
       "[23, 43, 67, 87]"
      ]
     },
     "execution_count": 43,
     "metadata": {},
     "output_type": "execute_result"
    }
   ],
   "source": [
    "list13[0:4]"
   ]
  },
  {
   "cell_type": "code",
   "execution_count": 44,
   "id": "459d51b7",
   "metadata": {},
   "outputs": [
    {
     "data": {
      "text/plain": [
       "[67, 87, 24, 44]"
      ]
     },
     "execution_count": 44,
     "metadata": {},
     "output_type": "execute_result"
    }
   ],
   "source": [
    "list13[2:]"
   ]
  },
  {
   "cell_type": "code",
   "execution_count": 45,
   "id": "328bb729",
   "metadata": {},
   "outputs": [
    {
     "data": {
      "text/plain": [
       "[23, 43, 67, 87, 24]"
      ]
     },
     "execution_count": 45,
     "metadata": {},
     "output_type": "execute_result"
    }
   ],
   "source": [
    "list13[:5]"
   ]
  },
  {
   "cell_type": "code",
   "execution_count": 47,
   "id": "18935bef",
   "metadata": {},
   "outputs": [
    {
     "data": {
      "text/plain": [
       "[44]"
      ]
     },
     "execution_count": 47,
     "metadata": {},
     "output_type": "execute_result"
    }
   ],
   "source": [
    "list13[5:]"
   ]
  },
  {
   "cell_type": "code",
   "execution_count": 48,
   "id": "019ba12d",
   "metadata": {},
   "outputs": [
    {
     "data": {
      "text/plain": [
       "[23, 43, 67, 87, 24, 44]"
      ]
     },
     "execution_count": 48,
     "metadata": {},
     "output_type": "execute_result"
    }
   ],
   "source": [
    "list13[0:]"
   ]
  },
  {
   "cell_type": "code",
   "execution_count": 49,
   "id": "cff494aa",
   "metadata": {},
   "outputs": [
    {
     "data": {
      "text/plain": [
       "[23, 43, 67, 87, 24]"
      ]
     },
     "execution_count": 49,
     "metadata": {},
     "output_type": "execute_result"
    }
   ],
   "source": [
    "list13[:5]"
   ]
  },
  {
   "cell_type": "code",
   "execution_count": 51,
   "id": "0bdf45c7",
   "metadata": {},
   "outputs": [
    {
     "data": {
      "text/plain": [
       "[100, 200, 300, 400, 500]"
      ]
     },
     "execution_count": 51,
     "metadata": {},
     "output_type": "execute_result"
    }
   ],
   "source": [
    "list4"
   ]
  },
  {
   "cell_type": "markdown",
   "id": "47297b5a",
   "metadata": {},
   "source": [
    "negative indexing"
   ]
  },
  {
   "cell_type": "code",
   "execution_count": 52,
   "id": "3b87ca4f",
   "metadata": {},
   "outputs": [
    {
     "data": {
      "text/plain": [
       "400"
      ]
     },
     "execution_count": 52,
     "metadata": {},
     "output_type": "execute_result"
    }
   ],
   "source": [
    "list4[-2]"
   ]
  },
  {
   "cell_type": "code",
   "execution_count": 53,
   "id": "11d4544c",
   "metadata": {},
   "outputs": [
    {
     "data": {
      "text/plain": [
       "200"
      ]
     },
     "execution_count": 53,
     "metadata": {},
     "output_type": "execute_result"
    }
   ],
   "source": [
    "list4[-4]"
   ]
  },
  {
   "cell_type": "code",
   "execution_count": 54,
   "id": "459e3103",
   "metadata": {},
   "outputs": [
    {
     "data": {
      "text/plain": [
       "300"
      ]
     },
     "execution_count": 54,
     "metadata": {},
     "output_type": "execute_result"
    }
   ],
   "source": [
    "list4[-3]"
   ]
  },
  {
   "cell_type": "code",
   "execution_count": 55,
   "id": "d9dae644",
   "metadata": {},
   "outputs": [
    {
     "data": {
      "text/plain": [
       "500"
      ]
     },
     "execution_count": 55,
     "metadata": {},
     "output_type": "execute_result"
    }
   ],
   "source": [
    "list4[-1]"
   ]
  },
  {
   "cell_type": "code",
   "execution_count": 56,
   "id": "09f77eb3",
   "metadata": {},
   "outputs": [
    {
     "data": {
      "text/plain": [
       "[100, 200, 300, 400, 500]"
      ]
     },
     "execution_count": 56,
     "metadata": {},
     "output_type": "execute_result"
    }
   ],
   "source": [
    "list4"
   ]
  },
  {
   "cell_type": "code",
   "execution_count": 57,
   "id": "1be156e8",
   "metadata": {},
   "outputs": [
    {
     "data": {
      "text/plain": [
       "[100, 200, 300, 400, 500]"
      ]
     },
     "execution_count": 57,
     "metadata": {},
     "output_type": "execute_result"
    }
   ],
   "source": [
    "list4[:]"
   ]
  },
  {
   "cell_type": "markdown",
   "id": "4bf8f792",
   "metadata": {},
   "source": [
    "negative slicing"
   ]
  },
  {
   "cell_type": "code",
   "execution_count": 60,
   "id": "c8663e76",
   "metadata": {},
   "outputs": [
    {
     "data": {
      "text/plain": [
       "[400]"
      ]
     },
     "execution_count": 60,
     "metadata": {},
     "output_type": "execute_result"
    }
   ],
   "source": [
    "list4[-2:-1]"
   ]
  },
  {
   "cell_type": "code",
   "execution_count": 62,
   "id": "b500eeca",
   "metadata": {},
   "outputs": [
    {
     "data": {
      "text/plain": [
       "[300, 400]"
      ]
     },
     "execution_count": 62,
     "metadata": {},
     "output_type": "execute_result"
    }
   ],
   "source": [
    "list4[-3:-1]"
   ]
  },
  {
   "cell_type": "code",
   "execution_count": 63,
   "id": "ac83d104",
   "metadata": {},
   "outputs": [
    {
     "data": {
      "text/plain": [
       "[100, 200, 300, 400]"
      ]
     },
     "execution_count": 63,
     "metadata": {},
     "output_type": "execute_result"
    }
   ],
   "source": [
    "list4[-5:-1]"
   ]
  },
  {
   "cell_type": "code",
   "execution_count": 77,
   "id": "ae115573",
   "metadata": {},
   "outputs": [
    {
     "data": {
      "text/plain": [
       "[200]"
      ]
     },
     "execution_count": 77,
     "metadata": {},
     "output_type": "execute_result"
    }
   ],
   "source": [
    "list4[-4:-3]"
   ]
  },
  {
   "cell_type": "code",
   "execution_count": 78,
   "id": "bf5cd18a",
   "metadata": {},
   "outputs": [
    {
     "data": {
      "text/plain": [
       "[100, 200, 300, 400, 500]"
      ]
     },
     "execution_count": 78,
     "metadata": {},
     "output_type": "execute_result"
    }
   ],
   "source": [
    "list4[:]"
   ]
  },
  {
   "cell_type": "code",
   "execution_count": 66,
   "id": "361676e1",
   "metadata": {},
   "outputs": [
    {
     "data": {
      "text/plain": [
       "[100, 200, 300, 400, 500]"
      ]
     },
     "execution_count": 66,
     "metadata": {},
     "output_type": "execute_result"
    }
   ],
   "source": [
    "list4[-5:]"
   ]
  },
  {
   "cell_type": "code",
   "execution_count": 67,
   "id": "ed10d75c",
   "metadata": {},
   "outputs": [
    {
     "data": {
      "text/plain": [
       "[100, 200, 300, 400]"
      ]
     },
     "execution_count": 67,
     "metadata": {},
     "output_type": "execute_result"
    }
   ],
   "source": [
    "list4[:-1]"
   ]
  },
  {
   "cell_type": "code",
   "execution_count": 68,
   "id": "99775e37",
   "metadata": {},
   "outputs": [
    {
     "data": {
      "text/plain": [
       "[500]"
      ]
     },
     "execution_count": 68,
     "metadata": {},
     "output_type": "execute_result"
    }
   ],
   "source": [
    "list4[-1:]"
   ]
  },
  {
   "cell_type": "code",
   "execution_count": 69,
   "id": "3af072f8",
   "metadata": {},
   "outputs": [
    {
     "data": {
      "text/plain": [
       "[]"
      ]
     },
     "execution_count": 69,
     "metadata": {},
     "output_type": "execute_result"
    }
   ],
   "source": [
    "list4[-1:-4]"
   ]
  },
  {
   "cell_type": "code",
   "execution_count": 70,
   "id": "66ac5083",
   "metadata": {},
   "outputs": [
    {
     "data": {
      "text/plain": [
       "['burger', 'pizza', 'icecreame']"
      ]
     },
     "execution_count": 70,
     "metadata": {},
     "output_type": "execute_result"
    }
   ],
   "source": [
    "list7"
   ]
  },
  {
   "cell_type": "code",
   "execution_count": 71,
   "id": "2c39fcd8",
   "metadata": {},
   "outputs": [
    {
     "data": {
      "text/plain": [
       "'icecreame'"
      ]
     },
     "execution_count": 71,
     "metadata": {},
     "output_type": "execute_result"
    }
   ],
   "source": [
    "list7[-1]"
   ]
  },
  {
   "cell_type": "code",
   "execution_count": 73,
   "id": "59f8eed2",
   "metadata": {},
   "outputs": [
    {
     "data": {
      "text/plain": [
       "'pizza'"
      ]
     },
     "execution_count": 73,
     "metadata": {},
     "output_type": "execute_result"
    }
   ],
   "source": [
    "list7[-2]"
   ]
  },
  {
   "cell_type": "code",
   "execution_count": 80,
   "id": "5f51485a",
   "metadata": {},
   "outputs": [
    {
     "data": {
      "text/plain": [
       "['burger', 'pizza']"
      ]
     },
     "execution_count": 80,
     "metadata": {},
     "output_type": "execute_result"
    }
   ],
   "source": [
    "list7[-3:-1]"
   ]
  },
  {
   "cell_type": "code",
   "execution_count": 82,
   "id": "71656595",
   "metadata": {},
   "outputs": [
    {
     "data": {
      "text/plain": [
       "['burger', 'pizza']"
      ]
     },
     "execution_count": 82,
     "metadata": {},
     "output_type": "execute_result"
    }
   ],
   "source": [
    "list7[-3:-1]"
   ]
  },
  {
   "cell_type": "code",
   "execution_count": 83,
   "id": "4e834655",
   "metadata": {},
   "outputs": [
    {
     "data": {
      "text/plain": [
       "['burger']"
      ]
     },
     "execution_count": 83,
     "metadata": {},
     "output_type": "execute_result"
    }
   ],
   "source": [
    "list7[-3:-2]"
   ]
  },
  {
   "cell_type": "code",
   "execution_count": 84,
   "id": "5a3f26bc",
   "metadata": {},
   "outputs": [
    {
     "data": {
      "text/plain": [
       "['pizza', 'icecreame']"
      ]
     },
     "execution_count": 84,
     "metadata": {},
     "output_type": "execute_result"
    }
   ],
   "source": [
    "list7[-2:]"
   ]
  },
  {
   "cell_type": "code",
   "execution_count": 85,
   "id": "35a04719",
   "metadata": {},
   "outputs": [
    {
     "data": {
      "text/plain": [
       "['icecreame']"
      ]
     },
     "execution_count": 85,
     "metadata": {},
     "output_type": "execute_result"
    }
   ],
   "source": [
    "list7[-1:]"
   ]
  },
  {
   "cell_type": "code",
   "execution_count": 86,
   "id": "d58d9690",
   "metadata": {},
   "outputs": [
    {
     "data": {
      "text/plain": [
       "['burger', 'pizza']"
      ]
     },
     "execution_count": 86,
     "metadata": {},
     "output_type": "execute_result"
    }
   ],
   "source": [
    "list7[:-1]"
   ]
  },
  {
   "cell_type": "code",
   "execution_count": 88,
   "id": "9a8057cd",
   "metadata": {},
   "outputs": [
    {
     "data": {
      "text/plain": [
       "['burger', 'pizza', 'icecreame']"
      ]
     },
     "execution_count": 88,
     "metadata": {},
     "output_type": "execute_result"
    }
   ],
   "source": [
    "list7[-3:]"
   ]
  },
  {
   "cell_type": "code",
   "execution_count": 89,
   "id": "24377abd",
   "metadata": {},
   "outputs": [
    {
     "data": {
      "text/plain": [
       "[]"
      ]
     },
     "execution_count": 89,
     "metadata": {},
     "output_type": "execute_result"
    }
   ],
   "source": [
    "list7[:-3]"
   ]
  },
  {
   "cell_type": "code",
   "execution_count": null,
   "id": "b65dd373",
   "metadata": {},
   "outputs": [],
   "source": []
  },
  {
   "cell_type": "code",
   "execution_count": null,
   "id": "bb2c8cea",
   "metadata": {},
   "outputs": [],
   "source": []
  }
 ],
 "metadata": {
  "kernelspec": {
   "display_name": "Python 3 (ipykernel)",
   "language": "python",
   "name": "python3"
  },
  "language_info": {
   "codemirror_mode": {
    "name": "ipython",
    "version": 3
   },
   "file_extension": ".py",
   "mimetype": "text/x-python",
   "name": "python",
   "nbconvert_exporter": "python",
   "pygments_lexer": "ipython3",
   "version": "3.9.12"
  }
 },
 "nbformat": 4,
 "nbformat_minor": 5
}
